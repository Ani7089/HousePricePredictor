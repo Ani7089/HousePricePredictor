{
  "nbformat": 4,
  "nbformat_minor": 0,
  "metadata": {
    "colab": {
      "provenance": [],
      "gpuType": "T4"
    },
    "kernelspec": {
      "name": "python3",
      "display_name": "Python 3"
    },
    "language_info": {
      "name": "python"
    },
    "accelerator": "GPU"
  },
  "cells": [
    {
      "cell_type": "code",
      "execution_count": null,
      "metadata": {
        "id": "UAZ0Ior27bp3"
      },
      "outputs": [],
      "source": [
        "import pandas as pd\n",
        "import numpy as np\n",
        "import re\n",
        "import matplotlib.pyplot as plt\n",
        "import seaborn as sns"
      ]
    },
    {
      "cell_type": "code",
      "source": [
        "pd.set_option('display.max_columns', None)"
      ],
      "metadata": {
        "id": "OGsYeauf865V"
      },
      "execution_count": null,
      "outputs": []
    },
    {
      "cell_type": "code",
      "source": [
        "data = pd.read_csv('/content/99Acres_gurgaon_hyderabad.csv')"
      ],
      "metadata": {
        "id": "2oq7m3C57qHS"
      },
      "execution_count": null,
      "outputs": []
    },
    {
      "cell_type": "code",
      "source": [
        "data.head(1)"
      ],
      "metadata": {
        "colab": {
          "base_uri": "https://localhost:8080/",
          "height": 135
        },
        "id": "5b8WJRN57qJa",
        "outputId": "d2904a03-49b2-4f02-f2d5-e257308b14f2"
      },
      "execution_count": null,
      "outputs": [
        {
          "output_type": "execute_result",
          "data": {
            "text/plain": [
              "   Unnamed: 0          PROPERTY_TYPE          CITY  OWNTYPE  BEDROOM_NUM  \\\n",
              "0           0  Residential Apartment  Secunderabad        1          2.0   \n",
              "\n",
              "   FURNISH  FACING  AGE  TOTAL_FLOOR  PRICE_SQFT    AREA  SUPERBUILTUP_SQFT  \\\n",
              "0        2       4    1          5.0      5700.0  1215.0        1215.030206   \n",
              "\n",
              "         PRICE  BALCONY_NUM FLOOR_NUM  BHK   LOCALITY   LATITUDE  LONGITUDE  \\\n",
              "0  692500000.0          1.0         2  2.0  Manikonda  17.575957  78.471167   \n",
              "\n",
              "   LUXURY  CARPET_SQFT  \n",
              "0  Luxury  1214.969794  "
            ],
            "text/html": [
              "\n",
              "  <div id=\"df-2c53d2a9-52ed-4de0-8f19-368b44c646de\" class=\"colab-df-container\">\n",
              "    <div>\n",
              "<style scoped>\n",
              "    .dataframe tbody tr th:only-of-type {\n",
              "        vertical-align: middle;\n",
              "    }\n",
              "\n",
              "    .dataframe tbody tr th {\n",
              "        vertical-align: top;\n",
              "    }\n",
              "\n",
              "    .dataframe thead th {\n",
              "        text-align: right;\n",
              "    }\n",
              "</style>\n",
              "<table border=\"1\" class=\"dataframe\">\n",
              "  <thead>\n",
              "    <tr style=\"text-align: right;\">\n",
              "      <th></th>\n",
              "      <th>Unnamed: 0</th>\n",
              "      <th>PROPERTY_TYPE</th>\n",
              "      <th>CITY</th>\n",
              "      <th>OWNTYPE</th>\n",
              "      <th>BEDROOM_NUM</th>\n",
              "      <th>FURNISH</th>\n",
              "      <th>FACING</th>\n",
              "      <th>AGE</th>\n",
              "      <th>TOTAL_FLOOR</th>\n",
              "      <th>PRICE_SQFT</th>\n",
              "      <th>AREA</th>\n",
              "      <th>SUPERBUILTUP_SQFT</th>\n",
              "      <th>PRICE</th>\n",
              "      <th>BALCONY_NUM</th>\n",
              "      <th>FLOOR_NUM</th>\n",
              "      <th>BHK</th>\n",
              "      <th>LOCALITY</th>\n",
              "      <th>LATITUDE</th>\n",
              "      <th>LONGITUDE</th>\n",
              "      <th>LUXURY</th>\n",
              "      <th>CARPET_SQFT</th>\n",
              "    </tr>\n",
              "  </thead>\n",
              "  <tbody>\n",
              "    <tr>\n",
              "      <th>0</th>\n",
              "      <td>0</td>\n",
              "      <td>Residential Apartment</td>\n",
              "      <td>Secunderabad</td>\n",
              "      <td>1</td>\n",
              "      <td>2.0</td>\n",
              "      <td>2</td>\n",
              "      <td>4</td>\n",
              "      <td>1</td>\n",
              "      <td>5.0</td>\n",
              "      <td>5700.0</td>\n",
              "      <td>1215.0</td>\n",
              "      <td>1215.030206</td>\n",
              "      <td>692500000.0</td>\n",
              "      <td>1.0</td>\n",
              "      <td>2</td>\n",
              "      <td>2.0</td>\n",
              "      <td>Manikonda</td>\n",
              "      <td>17.575957</td>\n",
              "      <td>78.471167</td>\n",
              "      <td>Luxury</td>\n",
              "      <td>1214.969794</td>\n",
              "    </tr>\n",
              "  </tbody>\n",
              "</table>\n",
              "</div>\n",
              "    <div class=\"colab-df-buttons\">\n",
              "\n",
              "  <div class=\"colab-df-container\">\n",
              "    <button class=\"colab-df-convert\" onclick=\"convertToInteractive('df-2c53d2a9-52ed-4de0-8f19-368b44c646de')\"\n",
              "            title=\"Convert this dataframe to an interactive table.\"\n",
              "            style=\"display:none;\">\n",
              "\n",
              "  <svg xmlns=\"http://www.w3.org/2000/svg\" height=\"24px\" viewBox=\"0 -960 960 960\">\n",
              "    <path d=\"M120-120v-720h720v720H120Zm60-500h600v-160H180v160Zm220 220h160v-160H400v160Zm0 220h160v-160H400v160ZM180-400h160v-160H180v160Zm440 0h160v-160H620v160ZM180-180h160v-160H180v160Zm440 0h160v-160H620v160Z\"/>\n",
              "  </svg>\n",
              "    </button>\n",
              "\n",
              "  <style>\n",
              "    .colab-df-container {\n",
              "      display:flex;\n",
              "      gap: 12px;\n",
              "    }\n",
              "\n",
              "    .colab-df-convert {\n",
              "      background-color: #E8F0FE;\n",
              "      border: none;\n",
              "      border-radius: 50%;\n",
              "      cursor: pointer;\n",
              "      display: none;\n",
              "      fill: #1967D2;\n",
              "      height: 32px;\n",
              "      padding: 0 0 0 0;\n",
              "      width: 32px;\n",
              "    }\n",
              "\n",
              "    .colab-df-convert:hover {\n",
              "      background-color: #E2EBFA;\n",
              "      box-shadow: 0px 1px 2px rgba(60, 64, 67, 0.3), 0px 1px 3px 1px rgba(60, 64, 67, 0.15);\n",
              "      fill: #174EA6;\n",
              "    }\n",
              "\n",
              "    .colab-df-buttons div {\n",
              "      margin-bottom: 4px;\n",
              "    }\n",
              "\n",
              "    [theme=dark] .colab-df-convert {\n",
              "      background-color: #3B4455;\n",
              "      fill: #D2E3FC;\n",
              "    }\n",
              "\n",
              "    [theme=dark] .colab-df-convert:hover {\n",
              "      background-color: #434B5C;\n",
              "      box-shadow: 0px 1px 3px 1px rgba(0, 0, 0, 0.15);\n",
              "      filter: drop-shadow(0px 1px 2px rgba(0, 0, 0, 0.3));\n",
              "      fill: #FFFFFF;\n",
              "    }\n",
              "  </style>\n",
              "\n",
              "    <script>\n",
              "      const buttonEl =\n",
              "        document.querySelector('#df-2c53d2a9-52ed-4de0-8f19-368b44c646de button.colab-df-convert');\n",
              "      buttonEl.style.display =\n",
              "        google.colab.kernel.accessAllowed ? 'block' : 'none';\n",
              "\n",
              "      async function convertToInteractive(key) {\n",
              "        const element = document.querySelector('#df-2c53d2a9-52ed-4de0-8f19-368b44c646de');\n",
              "        const dataTable =\n",
              "          await google.colab.kernel.invokeFunction('convertToInteractive',\n",
              "                                                    [key], {});\n",
              "        if (!dataTable) return;\n",
              "\n",
              "        const docLinkHtml = 'Like what you see? Visit the ' +\n",
              "          '<a target=\"_blank\" href=https://colab.research.google.com/notebooks/data_table.ipynb>data table notebook</a>'\n",
              "          + ' to learn more about interactive tables.';\n",
              "        element.innerHTML = '';\n",
              "        dataTable['output_type'] = 'display_data';\n",
              "        await google.colab.output.renderOutput(dataTable, element);\n",
              "        const docLink = document.createElement('div');\n",
              "        docLink.innerHTML = docLinkHtml;\n",
              "        element.appendChild(docLink);\n",
              "      }\n",
              "    </script>\n",
              "  </div>\n",
              "\n",
              "\n",
              "    </div>\n",
              "  </div>\n"
            ],
            "application/vnd.google.colaboratory.intrinsic+json": {
              "type": "dataframe",
              "variable_name": "data"
            }
          },
          "metadata": {},
          "execution_count": 92
        }
      ]
    },
    {
      "cell_type": "code",
      "source": [
        "data.drop(columns = ['Unnamed: 0'], inplace = True)"
      ],
      "metadata": {
        "id": "wBvqiiAP7qL2"
      },
      "execution_count": null,
      "outputs": []
    },
    {
      "cell_type": "code",
      "source": [
        "data.drop(index = [1627], inplace = True)"
      ],
      "metadata": {
        "id": "eD1ygiKI7qPQ"
      },
      "execution_count": null,
      "outputs": []
    },
    {
      "cell_type": "code",
      "source": [
        "data['PROPERTY_TYPE'].value_counts()"
      ],
      "metadata": {
        "colab": {
          "base_uri": "https://localhost:8080/"
        },
        "id": "DesyqBd09mur",
        "outputId": "720f6e38-d423-4d17-ba39-c64cadd594d3"
      },
      "execution_count": null,
      "outputs": [
        {
          "output_type": "execute_result",
          "data": {
            "text/plain": [
              "PROPERTY_TYPE\n",
              "Residential Apartment        11296\n",
              "Independent/Builder Floor     2844\n",
              "Residential Land              2421\n",
              "Independent House/Villa       2102\n",
              "Farm House                      34\n",
              "Studio Apartment                16\n",
              "Serviced Apartments              6\n",
              "Name: count, dtype: int64"
            ]
          },
          "metadata": {},
          "execution_count": 95
        }
      ]
    },
    {
      "cell_type": "code",
      "source": [
        "data['PROPERTY_TYPE'].isnull().sum()"
      ],
      "metadata": {
        "colab": {
          "base_uri": "https://localhost:8080/"
        },
        "id": "EYobM0Xy_yWt",
        "outputId": "1a4d6a68-8814-423e-accc-e7c2568c8f4f"
      },
      "execution_count": null,
      "outputs": [
        {
          "output_type": "execute_result",
          "data": {
            "text/plain": [
              "0"
            ]
          },
          "metadata": {},
          "execution_count": 96
        }
      ]
    },
    {
      "cell_type": "code",
      "source": [
        "data['CITY'].value_counts()"
      ],
      "metadata": {
        "colab": {
          "base_uri": "https://localhost:8080/"
        },
        "id": "gecvh_v5-2ET",
        "outputId": "b3053c83-dfb6-4587-d1c1-35819a1e23c3"
      },
      "execution_count": null,
      "outputs": [
        {
          "output_type": "execute_result",
          "data": {
            "text/plain": [
              "CITY\n",
              "Gurgaon         10662\n",
              "Hyderabad        7484\n",
              "Secunderabad      573\n",
              "Name: count, dtype: int64"
            ]
          },
          "metadata": {},
          "execution_count": 97
        }
      ]
    },
    {
      "cell_type": "code",
      "source": [
        "data['OWNTYPE'].value_counts()"
      ],
      "metadata": {
        "colab": {
          "base_uri": "https://localhost:8080/"
        },
        "id": "nCm_19FW_p-d",
        "outputId": "a7e6d3e8-0868-4728-c96e-196770514bdb"
      },
      "execution_count": null,
      "outputs": [
        {
          "output_type": "execute_result",
          "data": {
            "text/plain": [
              "OWNTYPE\n",
              "1    16502\n",
              "0     1973\n",
              "3       86\n",
              "4       80\n",
              "2       78\n",
              "Name: count, dtype: int64"
            ]
          },
          "metadata": {},
          "execution_count": 98
        }
      ]
    },
    {
      "cell_type": "code",
      "source": [
        "data['BEDROOM_NUM'].value_counts()"
      ],
      "metadata": {
        "colab": {
          "base_uri": "https://localhost:8080/"
        },
        "id": "LHFx07tzABzJ",
        "outputId": "65aa584b-e0d2-44d3-ac0f-3b79bcbb78ab"
      },
      "execution_count": null,
      "outputs": [
        {
          "output_type": "execute_result",
          "data": {
            "text/plain": [
              "BEDROOM_NUM\n",
              "3.0     7918\n",
              "4.0     4078\n",
              "2.0     3296\n",
              "5.0      499\n",
              "1.0      208\n",
              "6.0       89\n",
              "9.0       48\n",
              "10.0      41\n",
              "7.0       35\n",
              "8.0       21\n",
              "12.0      20\n",
              "11.0       6\n",
              "16.0       4\n",
              "22.0       4\n",
              "18.0       3\n",
              "14.0       3\n",
              "21.0       3\n",
              "19.0       2\n",
              "20.0       2\n",
              "17.0       1\n",
              "15.0       1\n",
              "Name: count, dtype: int64"
            ]
          },
          "metadata": {},
          "execution_count": 99
        }
      ]
    },
    {
      "cell_type": "code",
      "source": [
        "data['FURNISH'].value_counts()"
      ],
      "metadata": {
        "colab": {
          "base_uri": "https://localhost:8080/"
        },
        "id": "-OJzlcqwAMoE",
        "outputId": "4d1b0eea-7afa-4292-b5e6-7c28f574348a"
      },
      "execution_count": null,
      "outputs": [
        {
          "output_type": "execute_result",
          "data": {
            "text/plain": [
              "FURNISH\n",
              "4    9693\n",
              "2    4762\n",
              "0    2886\n",
              "1    1378\n",
              "Name: count, dtype: int64"
            ]
          },
          "metadata": {},
          "execution_count": 100
        }
      ]
    },
    {
      "cell_type": "code",
      "source": [
        "data.isnull().sum()"
      ],
      "metadata": {
        "colab": {
          "base_uri": "https://localhost:8080/"
        },
        "id": "qDspzmOmAesR",
        "outputId": "30b69dbd-8ac9-4d6b-9f57-c1ad8cc1b100"
      },
      "execution_count": null,
      "outputs": [
        {
          "output_type": "execute_result",
          "data": {
            "text/plain": [
              "PROPERTY_TYPE           0\n",
              "CITY                    0\n",
              "OWNTYPE                 0\n",
              "BEDROOM_NUM          2437\n",
              "FURNISH                 0\n",
              "FACING                  0\n",
              "AGE                     0\n",
              "TOTAL_FLOOR           410\n",
              "PRICE_SQFT              0\n",
              "AREA                    0\n",
              "SUPERBUILTUP_SQFT    3977\n",
              "PRICE                   0\n",
              "BALCONY_NUM          2444\n",
              "FLOOR_NUM            4557\n",
              "BHK                  7160\n",
              "LOCALITY                3\n",
              "LATITUDE             1249\n",
              "LONGITUDE            1249\n",
              "LUXURY                  0\n",
              "CARPET_SQFT          4145\n",
              "dtype: int64"
            ]
          },
          "metadata": {},
          "execution_count": 101
        }
      ]
    },
    {
      "cell_type": "code",
      "source": [
        "data = data[data['BEDROOM_NUM'].notnull()]"
      ],
      "metadata": {
        "id": "A6hX1TmJAlRt"
      },
      "execution_count": null,
      "outputs": []
    },
    {
      "cell_type": "code",
      "source": [
        "data['BEDROOM_NUM'].isnull().sum()"
      ],
      "metadata": {
        "colab": {
          "base_uri": "https://localhost:8080/"
        },
        "id": "biB0NTADA4v0",
        "outputId": "51ccb3d7-b2bc-42a3-d7ff-85872af95300"
      },
      "execution_count": null,
      "outputs": [
        {
          "output_type": "execute_result",
          "data": {
            "text/plain": [
              "0"
            ]
          },
          "metadata": {},
          "execution_count": 103
        }
      ]
    },
    {
      "cell_type": "code",
      "source": [
        "#data.drop(columns = ['TOTAL_FLOOR'], inplace=True)"
      ],
      "metadata": {
        "colab": {
          "base_uri": "https://localhost:8080/"
        },
        "id": "HLilirsGB6Ml",
        "outputId": "0795e959-b70d-463d-c4ec-31396ae8c3bb"
      },
      "execution_count": null,
      "outputs": [
        {
          "output_type": "stream",
          "name": "stderr",
          "text": [
            "<ipython-input-56-3fa2ae7ea085>:1: SettingWithCopyWarning: \n",
            "A value is trying to be set on a copy of a slice from a DataFrame\n",
            "\n",
            "See the caveats in the documentation: https://pandas.pydata.org/pandas-docs/stable/user_guide/indexing.html#returning-a-view-versus-a-copy\n",
            "  data.drop(columns = ['TOTAL_FLOOR'], inplace=True)\n"
          ]
        }
      ]
    },
    {
      "cell_type": "code",
      "source": [
        "data['FACING'].value_counts()"
      ],
      "metadata": {
        "colab": {
          "base_uri": "https://localhost:8080/"
        },
        "id": "a4jU46P4CYN5",
        "outputId": "94eb8430-8d22-4b26-fdb4-bdfc92b069e3"
      },
      "execution_count": null,
      "outputs": [
        {
          "output_type": "execute_result",
          "data": {
            "text/plain": [
              "FACING\n",
              "3    5613\n",
              "5    3955\n",
              "4    2059\n",
              "1    1780\n",
              "0    1550\n",
              "6     406\n",
              "7     390\n",
              "2     291\n",
              "8     238\n",
              "Name: count, dtype: int64"
            ]
          },
          "metadata": {},
          "execution_count": 104
        }
      ]
    },
    {
      "cell_type": "code",
      "source": [
        "data['AGE'].value_counts()"
      ],
      "metadata": {
        "colab": {
          "base_uri": "https://localhost:8080/"
        },
        "id": "9gkTLTwhC8UK",
        "outputId": "b047622e-2945-4594-9d7f-dbf8521987f6"
      },
      "execution_count": null,
      "outputs": [
        {
          "output_type": "execute_result",
          "data": {
            "text/plain": [
              "AGE\n",
              "1    5518\n",
              "6    4446\n",
              "5    3407\n",
              "2    2008\n",
              "3     900\n",
              "0       3\n",
              "Name: count, dtype: int64"
            ]
          },
          "metadata": {},
          "execution_count": 105
        }
      ]
    },
    {
      "cell_type": "code",
      "source": [
        "data[data['SUPERBUILTUP_SQFT'].isnull()]"
      ],
      "metadata": {
        "colab": {
          "base_uri": "https://localhost:8080/",
          "height": 617
        },
        "id": "ohoABISDDBgk",
        "outputId": "ec3b5890-e313-44bb-a618-6fae90555241"
      },
      "execution_count": null,
      "outputs": [
        {
          "output_type": "execute_result",
          "data": {
            "text/plain": [
              "                 PROPERTY_TYPE     CITY  OWNTYPE  BEDROOM_NUM  FURNISH  \\\n",
              "8083     Residential Apartment  Gurgaon        1          3.0        1   \n",
              "8084     Residential Apartment  Gurgaon        1          3.0        1   \n",
              "8090   Independent House/Villa  Gurgaon        1          3.0        4   \n",
              "8091   Independent House/Villa  Gurgaon        1          4.0        4   \n",
              "8095   Independent House/Villa  Gurgaon        1          3.0        1   \n",
              "...                        ...      ...      ...          ...      ...   \n",
              "18711    Residential Apartment  Gurgaon        1          3.0        1   \n",
              "18712    Residential Apartment  Gurgaon        1          3.0        4   \n",
              "18713    Residential Apartment  Gurgaon        1          3.0        4   \n",
              "18714    Residential Apartment  Gurgaon        1          3.0        4   \n",
              "18716    Residential Apartment  Gurgaon        1          3.0        4   \n",
              "\n",
              "       FACING  AGE  TOTAL_FLOOR  PRICE_SQFT  AREA  SUPERBUILTUP_SQFT  \\\n",
              "8083        3    6         21.0     16000.0  2200                NaN   \n",
              "8084        3    6         21.0     13000.0  1700                NaN   \n",
              "8090        5    5          4.0      9771.0  1535                NaN   \n",
              "8091        3    6          1.0     36000.0  5000                NaN   \n",
              "8095        3    5         15.0     10500.0  1579                NaN   \n",
              "...       ...  ...          ...         ...   ...                ...   \n",
              "18711       5    5         14.0     13900.0  1000                NaN   \n",
              "18712       3    5         14.0     14200.0  1000                NaN   \n",
              "18713       0    5         14.0     14100.0  1000                NaN   \n",
              "18714       3    5         33.0      9189.0  1850                NaN   \n",
              "18716       5    5         33.0      9100.0  1450                NaN   \n",
              "\n",
              "             PRICE  BALCONY_NUM FLOOR_NUM  BHK      LOCALITY   LATITUDE  \\\n",
              "8083    35600000.0          2.0         7  3.0    Sector 111  28.519268   \n",
              "8084    22500000.0          2.0         2  3.0    Sector 111  28.519268   \n",
              "8090    15000000.0          3.0       NaN  2.0    Sector 37D  28.439541   \n",
              "8091   180000000.0          2.0       NaN  4.0  South City 1  28.460089   \n",
              "8095    16600000.0          3.0       NaN  NaN    Sector 113  28.532594   \n",
              "...            ...          ...       ...  ...           ...        ...   \n",
              "18711   13900000.0          4.0         2  3.0     Sector 93  28.414620   \n",
              "18712   14200000.0          4.0         1  3.0     Sector 93  28.414620   \n",
              "18713   14100000.0          3.0         1  3.0     Sector 93  28.414620   \n",
              "18714   17000000.0          4.0         1  3.0     Sector 83  28.396610   \n",
              "18716   13500000.0          4.0        18  3.0     Sector 83  28.396610   \n",
              "\n",
              "       LONGITUDE  LUXURY  CARPET_SQFT  \n",
              "8083   77.027259  Luxury       2200.0  \n",
              "8084   77.027259  Luxury          NaN  \n",
              "8090   76.969755  Luxury       1020.0  \n",
              "8091   77.066245  Luxury          NaN  \n",
              "8095   77.020297  Luxury          NaN  \n",
              "...          ...     ...          ...  \n",
              "18711  76.925320  Luxury       1000.0  \n",
              "18712  76.925320  Luxury       1000.0  \n",
              "18713  76.925320  Luxury       1000.0  \n",
              "18714  76.972830  Luxury       1850.0  \n",
              "18716  76.972830  Luxury          NaN  \n",
              "\n",
              "[3790 rows x 20 columns]"
            ],
            "text/html": [
              "\n",
              "  <div id=\"df-8d1ba4d7-c50f-40ee-862a-b0f544cc67e9\" class=\"colab-df-container\">\n",
              "    <div>\n",
              "<style scoped>\n",
              "    .dataframe tbody tr th:only-of-type {\n",
              "        vertical-align: middle;\n",
              "    }\n",
              "\n",
              "    .dataframe tbody tr th {\n",
              "        vertical-align: top;\n",
              "    }\n",
              "\n",
              "    .dataframe thead th {\n",
              "        text-align: right;\n",
              "    }\n",
              "</style>\n",
              "<table border=\"1\" class=\"dataframe\">\n",
              "  <thead>\n",
              "    <tr style=\"text-align: right;\">\n",
              "      <th></th>\n",
              "      <th>PROPERTY_TYPE</th>\n",
              "      <th>CITY</th>\n",
              "      <th>OWNTYPE</th>\n",
              "      <th>BEDROOM_NUM</th>\n",
              "      <th>FURNISH</th>\n",
              "      <th>FACING</th>\n",
              "      <th>AGE</th>\n",
              "      <th>TOTAL_FLOOR</th>\n",
              "      <th>PRICE_SQFT</th>\n",
              "      <th>AREA</th>\n",
              "      <th>SUPERBUILTUP_SQFT</th>\n",
              "      <th>PRICE</th>\n",
              "      <th>BALCONY_NUM</th>\n",
              "      <th>FLOOR_NUM</th>\n",
              "      <th>BHK</th>\n",
              "      <th>LOCALITY</th>\n",
              "      <th>LATITUDE</th>\n",
              "      <th>LONGITUDE</th>\n",
              "      <th>LUXURY</th>\n",
              "      <th>CARPET_SQFT</th>\n",
              "    </tr>\n",
              "  </thead>\n",
              "  <tbody>\n",
              "    <tr>\n",
              "      <th>8083</th>\n",
              "      <td>Residential Apartment</td>\n",
              "      <td>Gurgaon</td>\n",
              "      <td>1</td>\n",
              "      <td>3.0</td>\n",
              "      <td>1</td>\n",
              "      <td>3</td>\n",
              "      <td>6</td>\n",
              "      <td>21.0</td>\n",
              "      <td>16000.0</td>\n",
              "      <td>2200</td>\n",
              "      <td>NaN</td>\n",
              "      <td>35600000.0</td>\n",
              "      <td>2.0</td>\n",
              "      <td>7</td>\n",
              "      <td>3.0</td>\n",
              "      <td>Sector 111</td>\n",
              "      <td>28.519268</td>\n",
              "      <td>77.027259</td>\n",
              "      <td>Luxury</td>\n",
              "      <td>2200.0</td>\n",
              "    </tr>\n",
              "    <tr>\n",
              "      <th>8084</th>\n",
              "      <td>Residential Apartment</td>\n",
              "      <td>Gurgaon</td>\n",
              "      <td>1</td>\n",
              "      <td>3.0</td>\n",
              "      <td>1</td>\n",
              "      <td>3</td>\n",
              "      <td>6</td>\n",
              "      <td>21.0</td>\n",
              "      <td>13000.0</td>\n",
              "      <td>1700</td>\n",
              "      <td>NaN</td>\n",
              "      <td>22500000.0</td>\n",
              "      <td>2.0</td>\n",
              "      <td>2</td>\n",
              "      <td>3.0</td>\n",
              "      <td>Sector 111</td>\n",
              "      <td>28.519268</td>\n",
              "      <td>77.027259</td>\n",
              "      <td>Luxury</td>\n",
              "      <td>NaN</td>\n",
              "    </tr>\n",
              "    <tr>\n",
              "      <th>8090</th>\n",
              "      <td>Independent House/Villa</td>\n",
              "      <td>Gurgaon</td>\n",
              "      <td>1</td>\n",
              "      <td>3.0</td>\n",
              "      <td>4</td>\n",
              "      <td>5</td>\n",
              "      <td>5</td>\n",
              "      <td>4.0</td>\n",
              "      <td>9771.0</td>\n",
              "      <td>1535</td>\n",
              "      <td>NaN</td>\n",
              "      <td>15000000.0</td>\n",
              "      <td>3.0</td>\n",
              "      <td>NaN</td>\n",
              "      <td>2.0</td>\n",
              "      <td>Sector 37D</td>\n",
              "      <td>28.439541</td>\n",
              "      <td>76.969755</td>\n",
              "      <td>Luxury</td>\n",
              "      <td>1020.0</td>\n",
              "    </tr>\n",
              "    <tr>\n",
              "      <th>8091</th>\n",
              "      <td>Independent House/Villa</td>\n",
              "      <td>Gurgaon</td>\n",
              "      <td>1</td>\n",
              "      <td>4.0</td>\n",
              "      <td>4</td>\n",
              "      <td>3</td>\n",
              "      <td>6</td>\n",
              "      <td>1.0</td>\n",
              "      <td>36000.0</td>\n",
              "      <td>5000</td>\n",
              "      <td>NaN</td>\n",
              "      <td>180000000.0</td>\n",
              "      <td>2.0</td>\n",
              "      <td>NaN</td>\n",
              "      <td>4.0</td>\n",
              "      <td>South City 1</td>\n",
              "      <td>28.460089</td>\n",
              "      <td>77.066245</td>\n",
              "      <td>Luxury</td>\n",
              "      <td>NaN</td>\n",
              "    </tr>\n",
              "    <tr>\n",
              "      <th>8095</th>\n",
              "      <td>Independent House/Villa</td>\n",
              "      <td>Gurgaon</td>\n",
              "      <td>1</td>\n",
              "      <td>3.0</td>\n",
              "      <td>1</td>\n",
              "      <td>3</td>\n",
              "      <td>5</td>\n",
              "      <td>15.0</td>\n",
              "      <td>10500.0</td>\n",
              "      <td>1579</td>\n",
              "      <td>NaN</td>\n",
              "      <td>16600000.0</td>\n",
              "      <td>3.0</td>\n",
              "      <td>NaN</td>\n",
              "      <td>NaN</td>\n",
              "      <td>Sector 113</td>\n",
              "      <td>28.532594</td>\n",
              "      <td>77.020297</td>\n",
              "      <td>Luxury</td>\n",
              "      <td>NaN</td>\n",
              "    </tr>\n",
              "    <tr>\n",
              "      <th>...</th>\n",
              "      <td>...</td>\n",
              "      <td>...</td>\n",
              "      <td>...</td>\n",
              "      <td>...</td>\n",
              "      <td>...</td>\n",
              "      <td>...</td>\n",
              "      <td>...</td>\n",
              "      <td>...</td>\n",
              "      <td>...</td>\n",
              "      <td>...</td>\n",
              "      <td>...</td>\n",
              "      <td>...</td>\n",
              "      <td>...</td>\n",
              "      <td>...</td>\n",
              "      <td>...</td>\n",
              "      <td>...</td>\n",
              "      <td>...</td>\n",
              "      <td>...</td>\n",
              "      <td>...</td>\n",
              "      <td>...</td>\n",
              "    </tr>\n",
              "    <tr>\n",
              "      <th>18711</th>\n",
              "      <td>Residential Apartment</td>\n",
              "      <td>Gurgaon</td>\n",
              "      <td>1</td>\n",
              "      <td>3.0</td>\n",
              "      <td>1</td>\n",
              "      <td>5</td>\n",
              "      <td>5</td>\n",
              "      <td>14.0</td>\n",
              "      <td>13900.0</td>\n",
              "      <td>1000</td>\n",
              "      <td>NaN</td>\n",
              "      <td>13900000.0</td>\n",
              "      <td>4.0</td>\n",
              "      <td>2</td>\n",
              "      <td>3.0</td>\n",
              "      <td>Sector 93</td>\n",
              "      <td>28.414620</td>\n",
              "      <td>76.925320</td>\n",
              "      <td>Luxury</td>\n",
              "      <td>1000.0</td>\n",
              "    </tr>\n",
              "    <tr>\n",
              "      <th>18712</th>\n",
              "      <td>Residential Apartment</td>\n",
              "      <td>Gurgaon</td>\n",
              "      <td>1</td>\n",
              "      <td>3.0</td>\n",
              "      <td>4</td>\n",
              "      <td>3</td>\n",
              "      <td>5</td>\n",
              "      <td>14.0</td>\n",
              "      <td>14200.0</td>\n",
              "      <td>1000</td>\n",
              "      <td>NaN</td>\n",
              "      <td>14200000.0</td>\n",
              "      <td>4.0</td>\n",
              "      <td>1</td>\n",
              "      <td>3.0</td>\n",
              "      <td>Sector 93</td>\n",
              "      <td>28.414620</td>\n",
              "      <td>76.925320</td>\n",
              "      <td>Luxury</td>\n",
              "      <td>1000.0</td>\n",
              "    </tr>\n",
              "    <tr>\n",
              "      <th>18713</th>\n",
              "      <td>Residential Apartment</td>\n",
              "      <td>Gurgaon</td>\n",
              "      <td>1</td>\n",
              "      <td>3.0</td>\n",
              "      <td>4</td>\n",
              "      <td>0</td>\n",
              "      <td>5</td>\n",
              "      <td>14.0</td>\n",
              "      <td>14100.0</td>\n",
              "      <td>1000</td>\n",
              "      <td>NaN</td>\n",
              "      <td>14100000.0</td>\n",
              "      <td>3.0</td>\n",
              "      <td>1</td>\n",
              "      <td>3.0</td>\n",
              "      <td>Sector 93</td>\n",
              "      <td>28.414620</td>\n",
              "      <td>76.925320</td>\n",
              "      <td>Luxury</td>\n",
              "      <td>1000.0</td>\n",
              "    </tr>\n",
              "    <tr>\n",
              "      <th>18714</th>\n",
              "      <td>Residential Apartment</td>\n",
              "      <td>Gurgaon</td>\n",
              "      <td>1</td>\n",
              "      <td>3.0</td>\n",
              "      <td>4</td>\n",
              "      <td>3</td>\n",
              "      <td>5</td>\n",
              "      <td>33.0</td>\n",
              "      <td>9189.0</td>\n",
              "      <td>1850</td>\n",
              "      <td>NaN</td>\n",
              "      <td>17000000.0</td>\n",
              "      <td>4.0</td>\n",
              "      <td>1</td>\n",
              "      <td>3.0</td>\n",
              "      <td>Sector 83</td>\n",
              "      <td>28.396610</td>\n",
              "      <td>76.972830</td>\n",
              "      <td>Luxury</td>\n",
              "      <td>1850.0</td>\n",
              "    </tr>\n",
              "    <tr>\n",
              "      <th>18716</th>\n",
              "      <td>Residential Apartment</td>\n",
              "      <td>Gurgaon</td>\n",
              "      <td>1</td>\n",
              "      <td>3.0</td>\n",
              "      <td>4</td>\n",
              "      <td>5</td>\n",
              "      <td>5</td>\n",
              "      <td>33.0</td>\n",
              "      <td>9100.0</td>\n",
              "      <td>1450</td>\n",
              "      <td>NaN</td>\n",
              "      <td>13500000.0</td>\n",
              "      <td>4.0</td>\n",
              "      <td>18</td>\n",
              "      <td>3.0</td>\n",
              "      <td>Sector 83</td>\n",
              "      <td>28.396610</td>\n",
              "      <td>76.972830</td>\n",
              "      <td>Luxury</td>\n",
              "      <td>NaN</td>\n",
              "    </tr>\n",
              "  </tbody>\n",
              "</table>\n",
              "<p>3790 rows × 20 columns</p>\n",
              "</div>\n",
              "    <div class=\"colab-df-buttons\">\n",
              "\n",
              "  <div class=\"colab-df-container\">\n",
              "    <button class=\"colab-df-convert\" onclick=\"convertToInteractive('df-8d1ba4d7-c50f-40ee-862a-b0f544cc67e9')\"\n",
              "            title=\"Convert this dataframe to an interactive table.\"\n",
              "            style=\"display:none;\">\n",
              "\n",
              "  <svg xmlns=\"http://www.w3.org/2000/svg\" height=\"24px\" viewBox=\"0 -960 960 960\">\n",
              "    <path d=\"M120-120v-720h720v720H120Zm60-500h600v-160H180v160Zm220 220h160v-160H400v160Zm0 220h160v-160H400v160ZM180-400h160v-160H180v160Zm440 0h160v-160H620v160ZM180-180h160v-160H180v160Zm440 0h160v-160H620v160Z\"/>\n",
              "  </svg>\n",
              "    </button>\n",
              "\n",
              "  <style>\n",
              "    .colab-df-container {\n",
              "      display:flex;\n",
              "      gap: 12px;\n",
              "    }\n",
              "\n",
              "    .colab-df-convert {\n",
              "      background-color: #E8F0FE;\n",
              "      border: none;\n",
              "      border-radius: 50%;\n",
              "      cursor: pointer;\n",
              "      display: none;\n",
              "      fill: #1967D2;\n",
              "      height: 32px;\n",
              "      padding: 0 0 0 0;\n",
              "      width: 32px;\n",
              "    }\n",
              "\n",
              "    .colab-df-convert:hover {\n",
              "      background-color: #E2EBFA;\n",
              "      box-shadow: 0px 1px 2px rgba(60, 64, 67, 0.3), 0px 1px 3px 1px rgba(60, 64, 67, 0.15);\n",
              "      fill: #174EA6;\n",
              "    }\n",
              "\n",
              "    .colab-df-buttons div {\n",
              "      margin-bottom: 4px;\n",
              "    }\n",
              "\n",
              "    [theme=dark] .colab-df-convert {\n",
              "      background-color: #3B4455;\n",
              "      fill: #D2E3FC;\n",
              "    }\n",
              "\n",
              "    [theme=dark] .colab-df-convert:hover {\n",
              "      background-color: #434B5C;\n",
              "      box-shadow: 0px 1px 3px 1px rgba(0, 0, 0, 0.15);\n",
              "      filter: drop-shadow(0px 1px 2px rgba(0, 0, 0, 0.3));\n",
              "      fill: #FFFFFF;\n",
              "    }\n",
              "  </style>\n",
              "\n",
              "    <script>\n",
              "      const buttonEl =\n",
              "        document.querySelector('#df-8d1ba4d7-c50f-40ee-862a-b0f544cc67e9 button.colab-df-convert');\n",
              "      buttonEl.style.display =\n",
              "        google.colab.kernel.accessAllowed ? 'block' : 'none';\n",
              "\n",
              "      async function convertToInteractive(key) {\n",
              "        const element = document.querySelector('#df-8d1ba4d7-c50f-40ee-862a-b0f544cc67e9');\n",
              "        const dataTable =\n",
              "          await google.colab.kernel.invokeFunction('convertToInteractive',\n",
              "                                                    [key], {});\n",
              "        if (!dataTable) return;\n",
              "\n",
              "        const docLinkHtml = 'Like what you see? Visit the ' +\n",
              "          '<a target=\"_blank\" href=https://colab.research.google.com/notebooks/data_table.ipynb>data table notebook</a>'\n",
              "          + ' to learn more about interactive tables.';\n",
              "        element.innerHTML = '';\n",
              "        dataTable['output_type'] = 'display_data';\n",
              "        await google.colab.output.renderOutput(dataTable, element);\n",
              "        const docLink = document.createElement('div');\n",
              "        docLink.innerHTML = docLinkHtml;\n",
              "        element.appendChild(docLink);\n",
              "      }\n",
              "    </script>\n",
              "  </div>\n",
              "\n",
              "\n",
              "<div id=\"df-0b35de7f-93f0-460a-84e5-fbf1e8e54cb0\">\n",
              "  <button class=\"colab-df-quickchart\" onclick=\"quickchart('df-0b35de7f-93f0-460a-84e5-fbf1e8e54cb0')\"\n",
              "            title=\"Suggest charts\"\n",
              "            style=\"display:none;\">\n",
              "\n",
              "<svg xmlns=\"http://www.w3.org/2000/svg\" height=\"24px\"viewBox=\"0 0 24 24\"\n",
              "     width=\"24px\">\n",
              "    <g>\n",
              "        <path d=\"M19 3H5c-1.1 0-2 .9-2 2v14c0 1.1.9 2 2 2h14c1.1 0 2-.9 2-2V5c0-1.1-.9-2-2-2zM9 17H7v-7h2v7zm4 0h-2V7h2v10zm4 0h-2v-4h2v4z\"/>\n",
              "    </g>\n",
              "</svg>\n",
              "  </button>\n",
              "\n",
              "<style>\n",
              "  .colab-df-quickchart {\n",
              "      --bg-color: #E8F0FE;\n",
              "      --fill-color: #1967D2;\n",
              "      --hover-bg-color: #E2EBFA;\n",
              "      --hover-fill-color: #174EA6;\n",
              "      --disabled-fill-color: #AAA;\n",
              "      --disabled-bg-color: #DDD;\n",
              "  }\n",
              "\n",
              "  [theme=dark] .colab-df-quickchart {\n",
              "      --bg-color: #3B4455;\n",
              "      --fill-color: #D2E3FC;\n",
              "      --hover-bg-color: #434B5C;\n",
              "      --hover-fill-color: #FFFFFF;\n",
              "      --disabled-bg-color: #3B4455;\n",
              "      --disabled-fill-color: #666;\n",
              "  }\n",
              "\n",
              "  .colab-df-quickchart {\n",
              "    background-color: var(--bg-color);\n",
              "    border: none;\n",
              "    border-radius: 50%;\n",
              "    cursor: pointer;\n",
              "    display: none;\n",
              "    fill: var(--fill-color);\n",
              "    height: 32px;\n",
              "    padding: 0;\n",
              "    width: 32px;\n",
              "  }\n",
              "\n",
              "  .colab-df-quickchart:hover {\n",
              "    background-color: var(--hover-bg-color);\n",
              "    box-shadow: 0 1px 2px rgba(60, 64, 67, 0.3), 0 1px 3px 1px rgba(60, 64, 67, 0.15);\n",
              "    fill: var(--button-hover-fill-color);\n",
              "  }\n",
              "\n",
              "  .colab-df-quickchart-complete:disabled,\n",
              "  .colab-df-quickchart-complete:disabled:hover {\n",
              "    background-color: var(--disabled-bg-color);\n",
              "    fill: var(--disabled-fill-color);\n",
              "    box-shadow: none;\n",
              "  }\n",
              "\n",
              "  .colab-df-spinner {\n",
              "    border: 2px solid var(--fill-color);\n",
              "    border-color: transparent;\n",
              "    border-bottom-color: var(--fill-color);\n",
              "    animation:\n",
              "      spin 1s steps(1) infinite;\n",
              "  }\n",
              "\n",
              "  @keyframes spin {\n",
              "    0% {\n",
              "      border-color: transparent;\n",
              "      border-bottom-color: var(--fill-color);\n",
              "      border-left-color: var(--fill-color);\n",
              "    }\n",
              "    20% {\n",
              "      border-color: transparent;\n",
              "      border-left-color: var(--fill-color);\n",
              "      border-top-color: var(--fill-color);\n",
              "    }\n",
              "    30% {\n",
              "      border-color: transparent;\n",
              "      border-left-color: var(--fill-color);\n",
              "      border-top-color: var(--fill-color);\n",
              "      border-right-color: var(--fill-color);\n",
              "    }\n",
              "    40% {\n",
              "      border-color: transparent;\n",
              "      border-right-color: var(--fill-color);\n",
              "      border-top-color: var(--fill-color);\n",
              "    }\n",
              "    60% {\n",
              "      border-color: transparent;\n",
              "      border-right-color: var(--fill-color);\n",
              "    }\n",
              "    80% {\n",
              "      border-color: transparent;\n",
              "      border-right-color: var(--fill-color);\n",
              "      border-bottom-color: var(--fill-color);\n",
              "    }\n",
              "    90% {\n",
              "      border-color: transparent;\n",
              "      border-bottom-color: var(--fill-color);\n",
              "    }\n",
              "  }\n",
              "</style>\n",
              "\n",
              "  <script>\n",
              "    async function quickchart(key) {\n",
              "      const quickchartButtonEl =\n",
              "        document.querySelector('#' + key + ' button');\n",
              "      quickchartButtonEl.disabled = true;  // To prevent multiple clicks.\n",
              "      quickchartButtonEl.classList.add('colab-df-spinner');\n",
              "      try {\n",
              "        const charts = await google.colab.kernel.invokeFunction(\n",
              "            'suggestCharts', [key], {});\n",
              "      } catch (error) {\n",
              "        console.error('Error during call to suggestCharts:', error);\n",
              "      }\n",
              "      quickchartButtonEl.classList.remove('colab-df-spinner');\n",
              "      quickchartButtonEl.classList.add('colab-df-quickchart-complete');\n",
              "    }\n",
              "    (() => {\n",
              "      let quickchartButtonEl =\n",
              "        document.querySelector('#df-0b35de7f-93f0-460a-84e5-fbf1e8e54cb0 button');\n",
              "      quickchartButtonEl.style.display =\n",
              "        google.colab.kernel.accessAllowed ? 'block' : 'none';\n",
              "    })();\n",
              "  </script>\n",
              "</div>\n",
              "\n",
              "    </div>\n",
              "  </div>\n"
            ],
            "application/vnd.google.colaboratory.intrinsic+json": {
              "type": "dataframe",
              "summary": "{\n  \"name\": \"data[data['SUPERBUILTUP_SQFT']\",\n  \"rows\": 3790,\n  \"fields\": [\n    {\n      \"column\": \"PROPERTY_TYPE\",\n      \"properties\": {\n        \"dtype\": \"category\",\n        \"num_unique_values\": 3,\n        \"samples\": [\n          \"Residential Apartment\",\n          \"Independent House/Villa\",\n          \"Independent/Builder Floor\"\n        ],\n        \"semantic_type\": \"\",\n        \"description\": \"\"\n      }\n    },\n    {\n      \"column\": \"CITY\",\n      \"properties\": {\n        \"dtype\": \"category\",\n        \"num_unique_values\": 1,\n        \"samples\": [\n          \"Gurgaon\"\n        ],\n        \"semantic_type\": \"\",\n        \"description\": \"\"\n      }\n    },\n    {\n      \"column\": \"OWNTYPE\",\n      \"properties\": {\n        \"dtype\": \"number\",\n        \"std\": 0,\n        \"min\": 0,\n        \"max\": 4,\n        \"num_unique_values\": 5,\n        \"samples\": [\n          0\n        ],\n        \"semantic_type\": \"\",\n        \"description\": \"\"\n      }\n    },\n    {\n      \"column\": \"BEDROOM_NUM\",\n      \"properties\": {\n        \"dtype\": \"number\",\n        \"std\": 1.831504399622374,\n        \"min\": 1.0,\n        \"max\": 22.0,\n        \"num_unique_values\": 20,\n        \"samples\": [\n          3.0\n        ],\n        \"semantic_type\": \"\",\n        \"description\": \"\"\n      }\n    },\n    {\n      \"column\": \"FURNISH\",\n      \"properties\": {\n        \"dtype\": \"number\",\n        \"std\": 1,\n        \"min\": 0,\n        \"max\": 4,\n        \"num_unique_values\": 4,\n        \"samples\": [\n          4\n        ],\n        \"semantic_type\": \"\",\n        \"description\": \"\"\n      }\n    },\n    {\n      \"column\": \"FACING\",\n      \"properties\": {\n        \"dtype\": \"number\",\n        \"std\": 2,\n        \"min\": 0,\n        \"max\": 8,\n        \"num_unique_values\": 9,\n        \"samples\": [\n          2\n        ],\n        \"semantic_type\": \"\",\n        \"description\": \"\"\n      }\n    },\n    {\n      \"column\": \"AGE\",\n      \"properties\": {\n        \"dtype\": \"number\",\n        \"std\": 2,\n        \"min\": 0,\n        \"max\": 6,\n        \"num_unique_values\": 6,\n        \"samples\": [\n          6\n        ],\n        \"semantic_type\": \"\",\n        \"description\": \"\"\n      }\n    },\n    {\n      \"column\": \"TOTAL_FLOOR\",\n      \"properties\": {\n        \"dtype\": \"number\",\n        \"std\": 9.731645318329766,\n        \"min\": 1.0,\n        \"max\": 51.0,\n        \"num_unique_values\": 47,\n        \"samples\": [\n          6.0\n        ],\n        \"semantic_type\": \"\",\n        \"description\": \"\"\n      }\n    },\n    {\n      \"column\": \"PRICE_SQFT\",\n      \"properties\": {\n        \"dtype\": \"number\",\n        \"std\": 143778.3620210363,\n        \"min\": 0.0,\n        \"max\": 6333333.0,\n        \"num_unique_values\": 2546,\n        \"samples\": [\n          28727.0\n        ],\n        \"semantic_type\": \"\",\n        \"description\": \"\"\n      }\n    },\n    {\n      \"column\": \"AREA\",\n      \"properties\": {\n        \"dtype\": \"category\",\n        \"num_unique_values\": 862,\n        \"samples\": [\n          \"702\"\n        ],\n        \"semantic_type\": \"\",\n        \"description\": \"\"\n      }\n    },\n    {\n      \"column\": \"SUPERBUILTUP_SQFT\",\n      \"properties\": {\n        \"dtype\": \"number\",\n        \"std\": null,\n        \"min\": null,\n        \"max\": null,\n        \"num_unique_values\": 0,\n        \"samples\": [],\n        \"semantic_type\": \"\",\n        \"description\": \"\"\n      }\n    },\n    {\n      \"column\": \"PRICE\",\n      \"properties\": {\n        \"dtype\": \"number\",\n        \"std\": 80404557.3945489,\n        \"min\": 10000.0,\n        \"max\": 2900000000.0,\n        \"num_unique_values\": 643,\n        \"samples\": [],\n        \"semantic_type\": \"\",\n        \"description\": \"\"\n      }\n    },\n    {\n      \"column\": \"BALCONY_NUM\",\n      \"properties\": {\n        \"dtype\": \"number\",\n        \"std\": 0.9429647887174109,\n        \"min\": 0.0,\n        \"max\": 4.0,\n        \"num_unique_values\": 5,\n        \"samples\": [],\n        \"semantic_type\": \"\",\n        \"description\": \"\"\n      }\n    },\n    {\n      \"column\": \"FLOOR_NUM\",\n      \"properties\": {\n        \"dtype\": \"category\",\n        \"num_unique_values\": 38,\n        \"samples\": [],\n        \"semantic_type\": \"\",\n        \"description\": \"\"\n      }\n    },\n    {\n      \"column\": \"BHK\",\n      \"properties\": {\n        \"dtype\": \"number\",\n        \"std\": 1.3674446226472579,\n        \"min\": 0.0,\n        \"max\": 22.0,\n        \"num_unique_values\": 16,\n        \"samples\": [],\n        \"semantic_type\": \"\",\n        \"description\": \"\"\n      }\n    },\n    {\n      \"column\": \"LOCALITY\",\n      \"properties\": {\n        \"dtype\": \"category\",\n        \"num_unique_values\": 202,\n        \"samples\": [],\n        \"semantic_type\": \"\",\n        \"description\": \"\"\n      }\n    },\n    {\n      \"column\": \"LATITUDE\",\n      \"properties\": {\n        \"dtype\": \"number\",\n        \"std\": 2.137924311398601,\n        \"min\": 0.0,\n        \"max\": 77.079553,\n        \"num_unique_values\": 876,\n        \"samples\": [],\n        \"semantic_type\": \"\",\n        \"description\": \"\"\n      }\n    },\n    {\n      \"column\": \"LONGITUDE\",\n      \"properties\": {\n        \"dtype\": \"number\",\n        \"std\": 2.4339514640029933,\n        \"min\": 0.0,\n        \"max\": 77.1915,\n        \"num_unique_values\": 859,\n        \"samples\": [],\n        \"semantic_type\": \"\",\n        \"description\": \"\"\n      }\n    },\n    {\n      \"column\": \"LUXURY\",\n      \"properties\": {\n        \"dtype\": \"category\",\n        \"num_unique_values\": 1,\n        \"samples\": [],\n        \"semantic_type\": \"\",\n        \"description\": \"\"\n      }\n    },\n    {\n      \"column\": \"CARPET_SQFT\",\n      \"properties\": {\n        \"dtype\": \"number\",\n        \"std\": 25157.0679144712,\n        \"min\": 30.0,\n        \"max\": 577946.0,\n        \"num_unique_values\": 823,\n        \"samples\": [],\n        \"semantic_type\": \"\",\n        \"description\": \"\"\n      }\n    }\n  ]\n}"
            }
          },
          "metadata": {},
          "execution_count": 106
        }
      ]
    },
    {
      "cell_type": "code",
      "source": [
        "data.drop(columns = ['CARPET_SQFT','SUPERBUILTUP_SQFT'], inplace=True)"
      ],
      "metadata": {
        "id": "kE5xwNqHDMwt"
      },
      "execution_count": null,
      "outputs": []
    },
    {
      "cell_type": "code",
      "source": [
        "data = data[~data['BALCONY_NUM'].isnull()]"
      ],
      "metadata": {
        "id": "Yfbxjvh1EUMF"
      },
      "execution_count": null,
      "outputs": []
    },
    {
      "cell_type": "code",
      "source": [
        "data.isnull().sum()"
      ],
      "metadata": {
        "colab": {
          "base_uri": "https://localhost:8080/"
        },
        "id": "XEoIrId-EdfH",
        "outputId": "3574f223-84d6-4588-b33f-921aaad1e0a6"
      },
      "execution_count": 155,
      "outputs": [
        {
          "output_type": "execute_result",
          "data": {
            "text/plain": [
              "PROPERTY_TYPE    0\n",
              "CITY             0\n",
              "OWNTYPE          0\n",
              "BEDROOM_NUM      0\n",
              "FURNISH          0\n",
              "FACING           0\n",
              "AGE              0\n",
              "TOTAL_FLOOR      0\n",
              "PRICE_SQFT       0\n",
              "AREA             0\n",
              "PRICE            0\n",
              "BALCONY_NUM      0\n",
              "FLOOR_NUM        0\n",
              "BHK              0\n",
              "LOCALITY         3\n",
              "LATITUDE         0\n",
              "LONGITUDE        0\n",
              "LUXURY           0\n",
              "dtype: int64"
            ]
          },
          "metadata": {},
          "execution_count": 155
        }
      ]
    },
    {
      "cell_type": "code",
      "source": [
        "data['BHK'].fillna(data['BEDROOM_NUM'], inplace = True)"
      ],
      "metadata": {
        "id": "NAo7OUsVIDp6"
      },
      "execution_count": null,
      "outputs": []
    },
    {
      "cell_type": "code",
      "source": [
        "data['AREA'] = data['AREA'].astype(float)"
      ],
      "metadata": {
        "id": "HGX17ALtIUfz"
      },
      "execution_count": null,
      "outputs": []
    },
    {
      "cell_type": "code",
      "source": [
        "data['FLOOR_NUM'].fillna(data['TOTAL_FLOOR'], inplace = True)"
      ],
      "metadata": {
        "id": "te-KTjXFJpr1"
      },
      "execution_count": null,
      "outputs": []
    },
    {
      "cell_type": "code",
      "source": [
        "data = data[~data['FLOOR_NUM'].isnull()]"
      ],
      "metadata": {
        "id": "T97xUkLAQ95N"
      },
      "execution_count": null,
      "outputs": []
    },
    {
      "cell_type": "code",
      "source": [
        "def floorNum(item):\n",
        "  if item == 'L':\n",
        "    return '1'\n",
        "  elif item == 'G':\n",
        "    return '0'\n",
        "  elif item == 'B':\n",
        "    return '1'\n",
        "  else :\n",
        "    return item"
      ],
      "metadata": {
        "id": "7YCVy182QI3A"
      },
      "execution_count": null,
      "outputs": []
    },
    {
      "cell_type": "code",
      "source": [
        "data['FLOOR_NUM'] = data['FLOOR_NUM'].apply(floorNum).astype(int)"
      ],
      "metadata": {
        "id": "8g8mUXyxKEH0"
      },
      "execution_count": null,
      "outputs": []
    },
    {
      "cell_type": "code",
      "source": [
        "lat = data[(data['LOCALITY'] == 'Manikonda') & (~data['LONGITUDE'].isnull())].mode()['LATITUDE'][0]\n",
        "longi = data[(data['LOCALITY'] == 'Manikonda') & (~data['LONGITUDE'].isnull())].mode()['LONGITUDE'][0]"
      ],
      "metadata": {
        "id": "bXQOgBriM-61"
      },
      "execution_count": null,
      "outputs": []
    },
    {
      "cell_type": "code",
      "source": [
        "data = data[~data['LONGITUDE'].isnull()]"
      ],
      "metadata": {
        "id": "L7454s2DT5np"
      },
      "execution_count": 154,
      "outputs": []
    },
    {
      "cell_type": "code",
      "source": [
        "data = data[~data['LOCALITY'].isnull()]"
      ],
      "metadata": {
        "id": "o8UkA0A5UmLZ"
      },
      "execution_count": 157,
      "outputs": []
    },
    {
      "cell_type": "code",
      "source": [
        "data.info()"
      ],
      "metadata": {
        "colab": {
          "base_uri": "https://localhost:8080/"
        },
        "id": "k-OLWefoXKB4",
        "outputId": "cda6ecd3-b185-4fda-8edf-5dd1a6b311c0"
      },
      "execution_count": 175,
      "outputs": [
        {
          "output_type": "stream",
          "name": "stdout",
          "text": [
            "<class 'pandas.core.frame.DataFrame'>\n",
            "Index: 15340 entries, 0 to 18719\n",
            "Data columns (total 18 columns):\n",
            " #   Column         Non-Null Count  Dtype  \n",
            "---  ------         --------------  -----  \n",
            " 0   PROPERTY_TYPE  15340 non-null  object \n",
            " 1   CITY           15340 non-null  object \n",
            " 2   OWNTYPE        15340 non-null  int64  \n",
            " 3   BEDROOM_NUM    15340 non-null  float64\n",
            " 4   FURNISH        15340 non-null  int64  \n",
            " 5   FACING         15340 non-null  int64  \n",
            " 6   AGE            15340 non-null  int64  \n",
            " 7   TOTAL_FLOOR    15340 non-null  int64  \n",
            " 8   PRICE_SQFT     15340 non-null  float64\n",
            " 9   AREA           15340 non-null  float64\n",
            " 10  PRICE          15340 non-null  float64\n",
            " 11  BALCONY_NUM    15340 non-null  int64  \n",
            " 12  FLOOR_NUM      15340 non-null  int64  \n",
            " 13  BHK            15340 non-null  float64\n",
            " 14  LOCALITY       15340 non-null  object \n",
            " 15  LATITUDE       15340 non-null  float64\n",
            " 16  LONGITUDE      15340 non-null  float64\n",
            " 17  LUXURY         15340 non-null  object \n",
            "dtypes: float64(7), int64(7), object(4)\n",
            "memory usage: 2.2+ MB\n"
          ]
        }
      ]
    },
    {
      "cell_type": "code",
      "source": [
        "data['BHK']=data['BHK'].astype(int)"
      ],
      "metadata": {
        "id": "Z2elpyzjae7p"
      },
      "execution_count": 177,
      "outputs": []
    },
    {
      "cell_type": "code",
      "source": [
        "data['BALCONY_NUM']=data['BALCONY_NUM'].astype(int)"
      ],
      "metadata": {
        "id": "GrtQlgPlaJMu"
      },
      "execution_count": 174,
      "outputs": []
    },
    {
      "cell_type": "code",
      "source": [
        "data['PRICE_SQFT'].value_counts()"
      ],
      "metadata": {
        "colab": {
          "base_uri": "https://localhost:8080/"
        },
        "id": "FMrkuAuAZPd4",
        "outputId": "120a1693-9391-47dd-857e-cb5d79890a0b"
      },
      "execution_count": 169,
      "outputs": [
        {
          "output_type": "execute_result",
          "data": {
            "text/plain": [
              "PRICE_SQFT\n",
              "10000.0    130\n",
              "30.0        79\n",
              "31.0        77\n",
              "33.0        75\n",
              "32.0        74\n",
              "          ... \n",
              "9422.0       1\n",
              "6620.0       1\n",
              "13593.0      1\n",
              "13505.0      1\n",
              "9100.0       1\n",
              "Name: count, Length: 7354, dtype: int64"
            ]
          },
          "metadata": {},
          "execution_count": 169
        }
      ]
    },
    {
      "cell_type": "code",
      "source": [
        "data['TOTAL_FLOOR']=data['TOTAL_FLOOR'].astype(int)"
      ],
      "metadata": {
        "id": "o8nfchQ8ZAzS"
      },
      "execution_count": 167,
      "outputs": []
    },
    {
      "cell_type": "code",
      "source": [
        "data['AGE'].value_counts()"
      ],
      "metadata": {
        "colab": {
          "base_uri": "https://localhost:8080/"
        },
        "id": "Ryp2SgrSY5L9",
        "outputId": "3137b1f3-244a-4467-881c-23cde89ba3e1"
      },
      "execution_count": 165,
      "outputs": [
        {
          "output_type": "execute_result",
          "data": {
            "text/plain": [
              "AGE\n",
              "1    5186\n",
              "6    4147\n",
              "5    3185\n",
              "2    1938\n",
              "3     881\n",
              "0       3\n",
              "Name: count, dtype: int64"
            ]
          },
          "metadata": {},
          "execution_count": 165
        }
      ]
    },
    {
      "cell_type": "code",
      "source": [
        "data['FACING'].value_counts()"
      ],
      "metadata": {
        "colab": {
          "base_uri": "https://localhost:8080/"
        },
        "id": "FqJN31wlYz5W",
        "outputId": "4251faa1-da34-4ca2-c56a-299ae31e9ef8"
      },
      "execution_count": 164,
      "outputs": [
        {
          "output_type": "execute_result",
          "data": {
            "text/plain": [
              "FACING\n",
              "3    5110\n",
              "5    3899\n",
              "4    1808\n",
              "1    1714\n",
              "0    1514\n",
              "6     395\n",
              "7     383\n",
              "2     286\n",
              "8     231\n",
              "Name: count, dtype: int64"
            ]
          },
          "metadata": {},
          "execution_count": 164
        }
      ]
    },
    {
      "cell_type": "code",
      "source": [
        "data['FURNISH'].value_counts()"
      ],
      "metadata": {
        "colab": {
          "base_uri": "https://localhost:8080/"
        },
        "id": "ojNSXBWrYr1K",
        "outputId": "1d8842af-39da-41f1-b33b-deaa6b5f625a"
      },
      "execution_count": 163,
      "outputs": [
        {
          "output_type": "execute_result",
          "data": {
            "text/plain": [
              "FURNISH\n",
              "4    9355\n",
              "2    4261\n",
              "1    1282\n",
              "0     442\n",
              "Name: count, dtype: int64"
            ]
          },
          "metadata": {},
          "execution_count": 163
        }
      ]
    },
    {
      "cell_type": "code",
      "source": [
        "data['OWNTYPE'].value_counts()"
      ],
      "metadata": {
        "colab": {
          "base_uri": "https://localhost:8080/"
        },
        "id": "33g_CND4YZ-g",
        "outputId": "befd4ab3-a64e-4469-c363-9ff00d5c5a27"
      },
      "execution_count": 161,
      "outputs": [
        {
          "output_type": "execute_result",
          "data": {
            "text/plain": [
              "OWNTYPE\n",
              "1    13471\n",
              "0     1667\n",
              "2       72\n",
              "4       67\n",
              "3       63\n",
              "Name: count, dtype: int64"
            ]
          },
          "metadata": {},
          "execution_count": 161
        }
      ]
    },
    {
      "cell_type": "code",
      "source": [
        "data['BEDROOM_NUM'].value_counts()"
      ],
      "metadata": {
        "colab": {
          "base_uri": "https://localhost:8080/"
        },
        "id": "5Q4Q-6x-Yhvw",
        "outputId": "d6db36b5-cbbc-4be0-d581-fdd606679f95"
      },
      "execution_count": 162,
      "outputs": [
        {
          "output_type": "execute_result",
          "data": {
            "text/plain": [
              "BEDROOM_NUM\n",
              "3.0     7480\n",
              "4.0     3944\n",
              "2.0     2981\n",
              "5.0      484\n",
              "1.0      177\n",
              "6.0       81\n",
              "9.0       48\n",
              "10.0      40\n",
              "7.0       35\n",
              "8.0       21\n",
              "12.0      20\n",
              "11.0       6\n",
              "16.0       4\n",
              "22.0       4\n",
              "18.0       3\n",
              "14.0       3\n",
              "21.0       3\n",
              "19.0       2\n",
              "20.0       2\n",
              "17.0       1\n",
              "15.0       1\n",
              "Name: count, dtype: int64"
            ]
          },
          "metadata": {},
          "execution_count": 162
        }
      ]
    },
    {
      "cell_type": "code",
      "source": [
        "data['CITY'].value_counts()"
      ],
      "metadata": {
        "colab": {
          "base_uri": "https://localhost:8080/"
        },
        "id": "SoBGRcixX7I_",
        "outputId": "3d06781f-3885-4f5c-ba81-a9c339691863"
      },
      "execution_count": 160,
      "outputs": [
        {
          "output_type": "execute_result",
          "data": {
            "text/plain": [
              "CITY\n",
              "Gurgaon         10458\n",
              "Hyderabad        4547\n",
              "Secunderabad      335\n",
              "Name: count, dtype: int64"
            ]
          },
          "metadata": {},
          "execution_count": 160
        }
      ]
    },
    {
      "cell_type": "code",
      "source": [
        "data['PROPERTY_TYPE'].value_counts()"
      ],
      "metadata": {
        "colab": {
          "base_uri": "https://localhost:8080/"
        },
        "id": "8Rps7VAAXsY9",
        "outputId": "0f4c55ff-3e03-4e8e-977a-f4d13d5b60e3"
      },
      "execution_count": 159,
      "outputs": [
        {
          "output_type": "execute_result",
          "data": {
            "text/plain": [
              "PROPERTY_TYPE\n",
              "Residential Apartment        10537\n",
              "Independent/Builder Floor     2836\n",
              "Independent House/Villa       1915\n",
              "Farm House                      33\n",
              "Studio Apartment                14\n",
              "Serviced Apartments              5\n",
              "Name: count, dtype: int64"
            ]
          },
          "metadata": {},
          "execution_count": 159
        }
      ]
    },
    {
      "cell_type": "code",
      "source": [
        "data.to_csv('99Acres_gurgaon_hyderabad_Secunderabad.csv', index=True)"
      ],
      "metadata": {
        "id": "Z2Du9eQlX39E"
      },
      "execution_count": 178,
      "outputs": []
    },
    {
      "cell_type": "code",
      "source": [],
      "metadata": {
        "id": "iewMK3Bxba0O"
      },
      "execution_count": null,
      "outputs": []
    }
  ]
}