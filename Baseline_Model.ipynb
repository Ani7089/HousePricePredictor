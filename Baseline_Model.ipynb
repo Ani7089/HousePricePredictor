{
  "nbformat": 4,
  "nbformat_minor": 0,
  "metadata": {
    "colab": {
      "provenance": []
    },
    "kernelspec": {
      "name": "python3",
      "display_name": "Python 3"
    },
    "language_info": {
      "name": "python"
    }
  },
  "cells": [
    {
      "cell_type": "code",
      "execution_count": 41,
      "metadata": {
        "id": "tZ0_tYYUYrto"
      },
      "outputs": [],
      "source": [
        "import numpy as np\n",
        "import pandas as pd\n",
        "from sklearn.model_selection import KFold, cross_val_score\n",
        "from sklearn.linear_model import LinearRegression\n",
        "from sklearn.pipeline import Pipeline\n",
        "from sklearn.preprocessing import OneHotEncoder, StandardScaler\n",
        "from sklearn.compose import ColumnTransformer\n",
        "from sklearn.svm import SVR\n",
        "from sklearn.model_selection import train_test_split\n",
        "from sklearn.metrics import mean_absolute_error"
      ]
    },
    {
      "cell_type": "code",
      "source": [
        "df = pd.read_csv('/content/99Acres_gurgaon_hyderabad_Secunderabad_SelectedFeatures.csv')"
      ],
      "metadata": {
        "id": "A7FAEVwkYv5x"
      },
      "execution_count": 42,
      "outputs": []
    },
    {
      "cell_type": "code",
      "source": [
        "pd.set_option('display.max_columns', None)"
      ],
      "metadata": {
        "id": "iLEw-c8tZWxD"
      },
      "execution_count": 43,
      "outputs": []
    },
    {
      "cell_type": "code",
      "source": [
        "X = df.drop(columns=['PRICE'])\n",
        "y = df['PRICE']/10000000"
      ],
      "metadata": {
        "id": "1KYhGHW_Y9nS"
      },
      "execution_count": 44,
      "outputs": []
    },
    {
      "cell_type": "code",
      "source": [
        "df.head(3)"
      ],
      "metadata": {
        "colab": {
          "base_uri": "https://localhost:8080/",
          "height": 163
        },
        "id": "1IlYz_1TY6ju",
        "outputId": "94c98916-4223-48a7-e4e1-b305c3a214df"
      },
      "execution_count": 45,
      "outputs": [
        {
          "output_type": "execute_result",
          "data": {
            "text/plain": [
              "   PROPERTY_TYPE  OWNTYPE  BEDROOM_NUM  FACING  AGE  TOTAL_FLOOR  PRICE_SQFT  \\\n",
              "0            2.0        1          3.0       3    5           30      5428.0   \n",
              "1            1.0        1          2.0       2    3            2      7964.0   \n",
              "2            2.0        1          2.0       3    1            5      4771.0   \n",
              "\n",
              "     AREA  BALCONY_NUM  FLOOR_NUM  BHK   LATITUDE  LONGITUDE  LUXURY  \\\n",
              "0  1658.0            3          9    3  17.580482  78.936868     1.0   \n",
              "1   565.0            1          1    2  17.531600  78.267290     1.0   \n",
              "2  1205.0            1          4    2  17.620662  77.953509     1.0   \n",
              "\n",
              "   SWIMMING_POOL  POWER_BACKUP  CLUB_HOUSE  ATM  GYM  WASTE_DISPOSAL  \\\n",
              "0              1             0           1    1    1               0   \n",
              "1              0             0           0    0    0               0   \n",
              "2              1             0           0    0    0               1   \n",
              "\n",
              "   GAS_PIPELINE       PRICE  \n",
              "0             0   9000000.0  \n",
              "1             0   4500000.0  \n",
              "2             0  57500000.0  "
            ],
            "text/html": [
              "\n",
              "  <div id=\"df-73a24e58-3a5d-4ae1-9d81-67dad8cecbd6\" class=\"colab-df-container\">\n",
              "    <div>\n",
              "<style scoped>\n",
              "    .dataframe tbody tr th:only-of-type {\n",
              "        vertical-align: middle;\n",
              "    }\n",
              "\n",
              "    .dataframe tbody tr th {\n",
              "        vertical-align: top;\n",
              "    }\n",
              "\n",
              "    .dataframe thead th {\n",
              "        text-align: right;\n",
              "    }\n",
              "</style>\n",
              "<table border=\"1\" class=\"dataframe\">\n",
              "  <thead>\n",
              "    <tr style=\"text-align: right;\">\n",
              "      <th></th>\n",
              "      <th>PROPERTY_TYPE</th>\n",
              "      <th>OWNTYPE</th>\n",
              "      <th>BEDROOM_NUM</th>\n",
              "      <th>FACING</th>\n",
              "      <th>AGE</th>\n",
              "      <th>TOTAL_FLOOR</th>\n",
              "      <th>PRICE_SQFT</th>\n",
              "      <th>AREA</th>\n",
              "      <th>BALCONY_NUM</th>\n",
              "      <th>FLOOR_NUM</th>\n",
              "      <th>BHK</th>\n",
              "      <th>LATITUDE</th>\n",
              "      <th>LONGITUDE</th>\n",
              "      <th>LUXURY</th>\n",
              "      <th>SWIMMING_POOL</th>\n",
              "      <th>POWER_BACKUP</th>\n",
              "      <th>CLUB_HOUSE</th>\n",
              "      <th>ATM</th>\n",
              "      <th>GYM</th>\n",
              "      <th>WASTE_DISPOSAL</th>\n",
              "      <th>GAS_PIPELINE</th>\n",
              "      <th>PRICE</th>\n",
              "    </tr>\n",
              "  </thead>\n",
              "  <tbody>\n",
              "    <tr>\n",
              "      <th>0</th>\n",
              "      <td>2.0</td>\n",
              "      <td>1</td>\n",
              "      <td>3.0</td>\n",
              "      <td>3</td>\n",
              "      <td>5</td>\n",
              "      <td>30</td>\n",
              "      <td>5428.0</td>\n",
              "      <td>1658.0</td>\n",
              "      <td>3</td>\n",
              "      <td>9</td>\n",
              "      <td>3</td>\n",
              "      <td>17.580482</td>\n",
              "      <td>78.936868</td>\n",
              "      <td>1.0</td>\n",
              "      <td>1</td>\n",
              "      <td>0</td>\n",
              "      <td>1</td>\n",
              "      <td>1</td>\n",
              "      <td>1</td>\n",
              "      <td>0</td>\n",
              "      <td>0</td>\n",
              "      <td>9000000.0</td>\n",
              "    </tr>\n",
              "    <tr>\n",
              "      <th>1</th>\n",
              "      <td>1.0</td>\n",
              "      <td>1</td>\n",
              "      <td>2.0</td>\n",
              "      <td>2</td>\n",
              "      <td>3</td>\n",
              "      <td>2</td>\n",
              "      <td>7964.0</td>\n",
              "      <td>565.0</td>\n",
              "      <td>1</td>\n",
              "      <td>1</td>\n",
              "      <td>2</td>\n",
              "      <td>17.531600</td>\n",
              "      <td>78.267290</td>\n",
              "      <td>1.0</td>\n",
              "      <td>0</td>\n",
              "      <td>0</td>\n",
              "      <td>0</td>\n",
              "      <td>0</td>\n",
              "      <td>0</td>\n",
              "      <td>0</td>\n",
              "      <td>0</td>\n",
              "      <td>4500000.0</td>\n",
              "    </tr>\n",
              "    <tr>\n",
              "      <th>2</th>\n",
              "      <td>2.0</td>\n",
              "      <td>1</td>\n",
              "      <td>2.0</td>\n",
              "      <td>3</td>\n",
              "      <td>1</td>\n",
              "      <td>5</td>\n",
              "      <td>4771.0</td>\n",
              "      <td>1205.0</td>\n",
              "      <td>1</td>\n",
              "      <td>4</td>\n",
              "      <td>2</td>\n",
              "      <td>17.620662</td>\n",
              "      <td>77.953509</td>\n",
              "      <td>1.0</td>\n",
              "      <td>1</td>\n",
              "      <td>0</td>\n",
              "      <td>0</td>\n",
              "      <td>0</td>\n",
              "      <td>0</td>\n",
              "      <td>1</td>\n",
              "      <td>0</td>\n",
              "      <td>57500000.0</td>\n",
              "    </tr>\n",
              "  </tbody>\n",
              "</table>\n",
              "</div>\n",
              "    <div class=\"colab-df-buttons\">\n",
              "\n",
              "  <div class=\"colab-df-container\">\n",
              "    <button class=\"colab-df-convert\" onclick=\"convertToInteractive('df-73a24e58-3a5d-4ae1-9d81-67dad8cecbd6')\"\n",
              "            title=\"Convert this dataframe to an interactive table.\"\n",
              "            style=\"display:none;\">\n",
              "\n",
              "  <svg xmlns=\"http://www.w3.org/2000/svg\" height=\"24px\" viewBox=\"0 -960 960 960\">\n",
              "    <path d=\"M120-120v-720h720v720H120Zm60-500h600v-160H180v160Zm220 220h160v-160H400v160Zm0 220h160v-160H400v160ZM180-400h160v-160H180v160Zm440 0h160v-160H620v160ZM180-180h160v-160H180v160Zm440 0h160v-160H620v160Z\"/>\n",
              "  </svg>\n",
              "    </button>\n",
              "\n",
              "  <style>\n",
              "    .colab-df-container {\n",
              "      display:flex;\n",
              "      gap: 12px;\n",
              "    }\n",
              "\n",
              "    .colab-df-convert {\n",
              "      background-color: #E8F0FE;\n",
              "      border: none;\n",
              "      border-radius: 50%;\n",
              "      cursor: pointer;\n",
              "      display: none;\n",
              "      fill: #1967D2;\n",
              "      height: 32px;\n",
              "      padding: 0 0 0 0;\n",
              "      width: 32px;\n",
              "    }\n",
              "\n",
              "    .colab-df-convert:hover {\n",
              "      background-color: #E2EBFA;\n",
              "      box-shadow: 0px 1px 2px rgba(60, 64, 67, 0.3), 0px 1px 3px 1px rgba(60, 64, 67, 0.15);\n",
              "      fill: #174EA6;\n",
              "    }\n",
              "\n",
              "    .colab-df-buttons div {\n",
              "      margin-bottom: 4px;\n",
              "    }\n",
              "\n",
              "    [theme=dark] .colab-df-convert {\n",
              "      background-color: #3B4455;\n",
              "      fill: #D2E3FC;\n",
              "    }\n",
              "\n",
              "    [theme=dark] .colab-df-convert:hover {\n",
              "      background-color: #434B5C;\n",
              "      box-shadow: 0px 1px 3px 1px rgba(0, 0, 0, 0.15);\n",
              "      filter: drop-shadow(0px 1px 2px rgba(0, 0, 0, 0.3));\n",
              "      fill: #FFFFFF;\n",
              "    }\n",
              "  </style>\n",
              "\n",
              "    <script>\n",
              "      const buttonEl =\n",
              "        document.querySelector('#df-73a24e58-3a5d-4ae1-9d81-67dad8cecbd6 button.colab-df-convert');\n",
              "      buttonEl.style.display =\n",
              "        google.colab.kernel.accessAllowed ? 'block' : 'none';\n",
              "\n",
              "      async function convertToInteractive(key) {\n",
              "        const element = document.querySelector('#df-73a24e58-3a5d-4ae1-9d81-67dad8cecbd6');\n",
              "        const dataTable =\n",
              "          await google.colab.kernel.invokeFunction('convertToInteractive',\n",
              "                                                    [key], {});\n",
              "        if (!dataTable) return;\n",
              "\n",
              "        const docLinkHtml = 'Like what you see? Visit the ' +\n",
              "          '<a target=\"_blank\" href=https://colab.research.google.com/notebooks/data_table.ipynb>data table notebook</a>'\n",
              "          + ' to learn more about interactive tables.';\n",
              "        element.innerHTML = '';\n",
              "        dataTable['output_type'] = 'display_data';\n",
              "        await google.colab.output.renderOutput(dataTable, element);\n",
              "        const docLink = document.createElement('div');\n",
              "        docLink.innerHTML = docLinkHtml;\n",
              "        element.appendChild(docLink);\n",
              "      }\n",
              "    </script>\n",
              "  </div>\n",
              "\n",
              "\n",
              "<div id=\"df-f4266a65-d2e7-4fcb-b8a6-53119d6d0e22\">\n",
              "  <button class=\"colab-df-quickchart\" onclick=\"quickchart('df-f4266a65-d2e7-4fcb-b8a6-53119d6d0e22')\"\n",
              "            title=\"Suggest charts\"\n",
              "            style=\"display:none;\">\n",
              "\n",
              "<svg xmlns=\"http://www.w3.org/2000/svg\" height=\"24px\"viewBox=\"0 0 24 24\"\n",
              "     width=\"24px\">\n",
              "    <g>\n",
              "        <path d=\"M19 3H5c-1.1 0-2 .9-2 2v14c0 1.1.9 2 2 2h14c1.1 0 2-.9 2-2V5c0-1.1-.9-2-2-2zM9 17H7v-7h2v7zm4 0h-2V7h2v10zm4 0h-2v-4h2v4z\"/>\n",
              "    </g>\n",
              "</svg>\n",
              "  </button>\n",
              "\n",
              "<style>\n",
              "  .colab-df-quickchart {\n",
              "      --bg-color: #E8F0FE;\n",
              "      --fill-color: #1967D2;\n",
              "      --hover-bg-color: #E2EBFA;\n",
              "      --hover-fill-color: #174EA6;\n",
              "      --disabled-fill-color: #AAA;\n",
              "      --disabled-bg-color: #DDD;\n",
              "  }\n",
              "\n",
              "  [theme=dark] .colab-df-quickchart {\n",
              "      --bg-color: #3B4455;\n",
              "      --fill-color: #D2E3FC;\n",
              "      --hover-bg-color: #434B5C;\n",
              "      --hover-fill-color: #FFFFFF;\n",
              "      --disabled-bg-color: #3B4455;\n",
              "      --disabled-fill-color: #666;\n",
              "  }\n",
              "\n",
              "  .colab-df-quickchart {\n",
              "    background-color: var(--bg-color);\n",
              "    border: none;\n",
              "    border-radius: 50%;\n",
              "    cursor: pointer;\n",
              "    display: none;\n",
              "    fill: var(--fill-color);\n",
              "    height: 32px;\n",
              "    padding: 0;\n",
              "    width: 32px;\n",
              "  }\n",
              "\n",
              "  .colab-df-quickchart:hover {\n",
              "    background-color: var(--hover-bg-color);\n",
              "    box-shadow: 0 1px 2px rgba(60, 64, 67, 0.3), 0 1px 3px 1px rgba(60, 64, 67, 0.15);\n",
              "    fill: var(--button-hover-fill-color);\n",
              "  }\n",
              "\n",
              "  .colab-df-quickchart-complete:disabled,\n",
              "  .colab-df-quickchart-complete:disabled:hover {\n",
              "    background-color: var(--disabled-bg-color);\n",
              "    fill: var(--disabled-fill-color);\n",
              "    box-shadow: none;\n",
              "  }\n",
              "\n",
              "  .colab-df-spinner {\n",
              "    border: 2px solid var(--fill-color);\n",
              "    border-color: transparent;\n",
              "    border-bottom-color: var(--fill-color);\n",
              "    animation:\n",
              "      spin 1s steps(1) infinite;\n",
              "  }\n",
              "\n",
              "  @keyframes spin {\n",
              "    0% {\n",
              "      border-color: transparent;\n",
              "      border-bottom-color: var(--fill-color);\n",
              "      border-left-color: var(--fill-color);\n",
              "    }\n",
              "    20% {\n",
              "      border-color: transparent;\n",
              "      border-left-color: var(--fill-color);\n",
              "      border-top-color: var(--fill-color);\n",
              "    }\n",
              "    30% {\n",
              "      border-color: transparent;\n",
              "      border-left-color: var(--fill-color);\n",
              "      border-top-color: var(--fill-color);\n",
              "      border-right-color: var(--fill-color);\n",
              "    }\n",
              "    40% {\n",
              "      border-color: transparent;\n",
              "      border-right-color: var(--fill-color);\n",
              "      border-top-color: var(--fill-color);\n",
              "    }\n",
              "    60% {\n",
              "      border-color: transparent;\n",
              "      border-right-color: var(--fill-color);\n",
              "    }\n",
              "    80% {\n",
              "      border-color: transparent;\n",
              "      border-right-color: var(--fill-color);\n",
              "      border-bottom-color: var(--fill-color);\n",
              "    }\n",
              "    90% {\n",
              "      border-color: transparent;\n",
              "      border-bottom-color: var(--fill-color);\n",
              "    }\n",
              "  }\n",
              "</style>\n",
              "\n",
              "  <script>\n",
              "    async function quickchart(key) {\n",
              "      const quickchartButtonEl =\n",
              "        document.querySelector('#' + key + ' button');\n",
              "      quickchartButtonEl.disabled = true;  // To prevent multiple clicks.\n",
              "      quickchartButtonEl.classList.add('colab-df-spinner');\n",
              "      try {\n",
              "        const charts = await google.colab.kernel.invokeFunction(\n",
              "            'suggestCharts', [key], {});\n",
              "      } catch (error) {\n",
              "        console.error('Error during call to suggestCharts:', error);\n",
              "      }\n",
              "      quickchartButtonEl.classList.remove('colab-df-spinner');\n",
              "      quickchartButtonEl.classList.add('colab-df-quickchart-complete');\n",
              "    }\n",
              "    (() => {\n",
              "      let quickchartButtonEl =\n",
              "        document.querySelector('#df-f4266a65-d2e7-4fcb-b8a6-53119d6d0e22 button');\n",
              "      quickchartButtonEl.style.display =\n",
              "        google.colab.kernel.accessAllowed ? 'block' : 'none';\n",
              "    })();\n",
              "  </script>\n",
              "</div>\n",
              "\n",
              "    </div>\n",
              "  </div>\n"
            ],
            "application/vnd.google.colaboratory.intrinsic+json": {
              "type": "dataframe",
              "variable_name": "df"
            }
          },
          "metadata": {},
          "execution_count": 45
        }
      ]
    },
    {
      "cell_type": "code",
      "source": [
        "columns_to_encode = ['AGE', 'OWNTYPE', 'FACING', 'PROPERTY_TYPE', 'LUXURY', 'SWIMMING_POOL','SWIMMING_POOL','CLUB_HOUSE','ATM','GYM','WASTE_DISPOSAL','GAS_PIPELINE']"
      ],
      "metadata": {
        "id": "gpMrM_dwZGGj"
      },
      "execution_count": 46,
      "outputs": []
    },
    {
      "cell_type": "code",
      "source": [
        "# Applying the log1p transformation to the target variable\n",
        "y_transformed = np.log1p(y)"
      ],
      "metadata": {
        "id": "RBwM18UfakLU"
      },
      "execution_count": 47,
      "outputs": []
    },
    {
      "cell_type": "code",
      "source": [
        "# Creating a column transformer for preprocessing\n",
        "preprocessor = ColumnTransformer(\n",
        "    transformers=[\n",
        "        ('num', StandardScaler(), ['BEDROOM_NUM', 'AGE', 'TOTAL_FLOOR', 'PRICE_SQFT', 'AREA', 'BALCONY_NUM','FLOOR_NUM','BHK','LATITUDE','LONGITUDE']),\n",
        "        ('cat', OneHotEncoder(drop='first'), columns_to_encode)\n",
        "    ],\n",
        "    remainder='passthrough')"
      ],
      "metadata": {
        "id": "HkFEELTkanjZ"
      },
      "execution_count": 48,
      "outputs": []
    },
    {
      "cell_type": "code",
      "source": [
        "# Creating a pipeline\n",
        "pipeline = Pipeline([\n",
        "    ('preprocessor', preprocessor),\n",
        "    ('regressor', SVR(kernel='rbf'))\n",
        "])"
      ],
      "metadata": {
        "id": "gOO2gnwpbLtj"
      },
      "execution_count": 49,
      "outputs": []
    },
    {
      "cell_type": "code",
      "source": [
        "# K-fold cross-validation\n",
        "kfold = KFold(n_splits=10, shuffle=True, random_state=42)\n",
        "scores = cross_val_score(pipeline, X, y_transformed, cv=kfold, scoring='r2')"
      ],
      "metadata": {
        "id": "Kv8m0iMebQrY"
      },
      "execution_count": 50,
      "outputs": []
    },
    {
      "cell_type": "code",
      "source": [
        "scores.mean()"
      ],
      "metadata": {
        "colab": {
          "base_uri": "https://localhost:8080/"
        },
        "id": "mXTpzRZQbUUU",
        "outputId": "d04efda2-0730-42a8-82d4-86a51c3840a6"
      },
      "execution_count": 51,
      "outputs": [
        {
          "output_type": "execute_result",
          "data": {
            "text/plain": [
              "0.8149568852111322"
            ]
          },
          "metadata": {},
          "execution_count": 51
        }
      ]
    },
    {
      "cell_type": "code",
      "source": [
        "scores.std()"
      ],
      "metadata": {
        "colab": {
          "base_uri": "https://localhost:8080/"
        },
        "id": "_yNEPNHEbXBF",
        "outputId": "985c400a-af77-422a-86c9-965f22ef1de8"
      },
      "execution_count": 52,
      "outputs": [
        {
          "output_type": "execute_result",
          "data": {
            "text/plain": [
              "0.03476284559106954"
            ]
          },
          "metadata": {},
          "execution_count": 52
        }
      ]
    },
    {
      "cell_type": "code",
      "source": [
        "X_train, X_test, y_train, y_test = train_test_split(X,y_transformed,test_size=0.2,random_state=42)"
      ],
      "metadata": {
        "id": "R-T00cl6bZLH"
      },
      "execution_count": 53,
      "outputs": []
    },
    {
      "cell_type": "code",
      "source": [
        "pipeline.fit(X_train,y_train)"
      ],
      "metadata": {
        "colab": {
          "base_uri": "https://localhost:8080/",
          "height": 191
        },
        "id": "HPcu9I3obgd9",
        "outputId": "800f8c6f-9dbc-4475-aa61-1c2c394dfce5"
      },
      "execution_count": 54,
      "outputs": [
        {
          "output_type": "execute_result",
          "data": {
            "text/plain": [
              "Pipeline(steps=[('preprocessor',\n",
              "                 ColumnTransformer(remainder='passthrough',\n",
              "                                   transformers=[('num', StandardScaler(),\n",
              "                                                  ['BEDROOM_NUM', 'AGE',\n",
              "                                                   'TOTAL_FLOOR', 'PRICE_SQFT',\n",
              "                                                   'AREA', 'BALCONY_NUM',\n",
              "                                                   'FLOOR_NUM', 'BHK',\n",
              "                                                   'LATITUDE', 'LONGITUDE']),\n",
              "                                                 ('cat',\n",
              "                                                  OneHotEncoder(drop='first'),\n",
              "                                                  ['AGE', 'OWNTYPE', 'FACING',\n",
              "                                                   'PROPERTY_TYPE', 'LUXURY',\n",
              "                                                   'SWIMMING_POOL',\n",
              "                                                   'SWIMMING_POOL',\n",
              "                                                   'CLUB_HOUSE', 'ATM', 'GYM',\n",
              "                                                   'WASTE_DISPOSAL',\n",
              "                                                   'GAS_PIPELINE'])])),\n",
              "                ('regressor', SVR())])"
            ],
            "text/html": [
              "<style>#sk-container-id-3 {color: black;background-color: white;}#sk-container-id-3 pre{padding: 0;}#sk-container-id-3 div.sk-toggleable {background-color: white;}#sk-container-id-3 label.sk-toggleable__label {cursor: pointer;display: block;width: 100%;margin-bottom: 0;padding: 0.3em;box-sizing: border-box;text-align: center;}#sk-container-id-3 label.sk-toggleable__label-arrow:before {content: \"▸\";float: left;margin-right: 0.25em;color: #696969;}#sk-container-id-3 label.sk-toggleable__label-arrow:hover:before {color: black;}#sk-container-id-3 div.sk-estimator:hover label.sk-toggleable__label-arrow:before {color: black;}#sk-container-id-3 div.sk-toggleable__content {max-height: 0;max-width: 0;overflow: hidden;text-align: left;background-color: #f0f8ff;}#sk-container-id-3 div.sk-toggleable__content pre {margin: 0.2em;color: black;border-radius: 0.25em;background-color: #f0f8ff;}#sk-container-id-3 input.sk-toggleable__control:checked~div.sk-toggleable__content {max-height: 200px;max-width: 100%;overflow: auto;}#sk-container-id-3 input.sk-toggleable__control:checked~label.sk-toggleable__label-arrow:before {content: \"▾\";}#sk-container-id-3 div.sk-estimator input.sk-toggleable__control:checked~label.sk-toggleable__label {background-color: #d4ebff;}#sk-container-id-3 div.sk-label input.sk-toggleable__control:checked~label.sk-toggleable__label {background-color: #d4ebff;}#sk-container-id-3 input.sk-hidden--visually {border: 0;clip: rect(1px 1px 1px 1px);clip: rect(1px, 1px, 1px, 1px);height: 1px;margin: -1px;overflow: hidden;padding: 0;position: absolute;width: 1px;}#sk-container-id-3 div.sk-estimator {font-family: monospace;background-color: #f0f8ff;border: 1px dotted black;border-radius: 0.25em;box-sizing: border-box;margin-bottom: 0.5em;}#sk-container-id-3 div.sk-estimator:hover {background-color: #d4ebff;}#sk-container-id-3 div.sk-parallel-item::after {content: \"\";width: 100%;border-bottom: 1px solid gray;flex-grow: 1;}#sk-container-id-3 div.sk-label:hover label.sk-toggleable__label {background-color: #d4ebff;}#sk-container-id-3 div.sk-serial::before {content: \"\";position: absolute;border-left: 1px solid gray;box-sizing: border-box;top: 0;bottom: 0;left: 50%;z-index: 0;}#sk-container-id-3 div.sk-serial {display: flex;flex-direction: column;align-items: center;background-color: white;padding-right: 0.2em;padding-left: 0.2em;position: relative;}#sk-container-id-3 div.sk-item {position: relative;z-index: 1;}#sk-container-id-3 div.sk-parallel {display: flex;align-items: stretch;justify-content: center;background-color: white;position: relative;}#sk-container-id-3 div.sk-item::before, #sk-container-id-3 div.sk-parallel-item::before {content: \"\";position: absolute;border-left: 1px solid gray;box-sizing: border-box;top: 0;bottom: 0;left: 50%;z-index: -1;}#sk-container-id-3 div.sk-parallel-item {display: flex;flex-direction: column;z-index: 1;position: relative;background-color: white;}#sk-container-id-3 div.sk-parallel-item:first-child::after {align-self: flex-end;width: 50%;}#sk-container-id-3 div.sk-parallel-item:last-child::after {align-self: flex-start;width: 50%;}#sk-container-id-3 div.sk-parallel-item:only-child::after {width: 0;}#sk-container-id-3 div.sk-dashed-wrapped {border: 1px dashed gray;margin: 0 0.4em 0.5em 0.4em;box-sizing: border-box;padding-bottom: 0.4em;background-color: white;}#sk-container-id-3 div.sk-label label {font-family: monospace;font-weight: bold;display: inline-block;line-height: 1.2em;}#sk-container-id-3 div.sk-label-container {text-align: center;}#sk-container-id-3 div.sk-container {/* jupyter's `normalize.less` sets `[hidden] { display: none; }` but bootstrap.min.css set `[hidden] { display: none !important; }` so we also need the `!important` here to be able to override the default hidden behavior on the sphinx rendered scikit-learn.org. See: https://github.com/scikit-learn/scikit-learn/issues/21755 */display: inline-block !important;position: relative;}#sk-container-id-3 div.sk-text-repr-fallback {display: none;}</style><div id=\"sk-container-id-3\" class=\"sk-top-container\"><div class=\"sk-text-repr-fallback\"><pre>Pipeline(steps=[(&#x27;preprocessor&#x27;,\n",
              "                 ColumnTransformer(remainder=&#x27;passthrough&#x27;,\n",
              "                                   transformers=[(&#x27;num&#x27;, StandardScaler(),\n",
              "                                                  [&#x27;BEDROOM_NUM&#x27;, &#x27;AGE&#x27;,\n",
              "                                                   &#x27;TOTAL_FLOOR&#x27;, &#x27;PRICE_SQFT&#x27;,\n",
              "                                                   &#x27;AREA&#x27;, &#x27;BALCONY_NUM&#x27;,\n",
              "                                                   &#x27;FLOOR_NUM&#x27;, &#x27;BHK&#x27;,\n",
              "                                                   &#x27;LATITUDE&#x27;, &#x27;LONGITUDE&#x27;]),\n",
              "                                                 (&#x27;cat&#x27;,\n",
              "                                                  OneHotEncoder(drop=&#x27;first&#x27;),\n",
              "                                                  [&#x27;AGE&#x27;, &#x27;OWNTYPE&#x27;, &#x27;FACING&#x27;,\n",
              "                                                   &#x27;PROPERTY_TYPE&#x27;, &#x27;LUXURY&#x27;,\n",
              "                                                   &#x27;SWIMMING_POOL&#x27;,\n",
              "                                                   &#x27;SWIMMING_POOL&#x27;,\n",
              "                                                   &#x27;CLUB_HOUSE&#x27;, &#x27;ATM&#x27;, &#x27;GYM&#x27;,\n",
              "                                                   &#x27;WASTE_DISPOSAL&#x27;,\n",
              "                                                   &#x27;GAS_PIPELINE&#x27;])])),\n",
              "                (&#x27;regressor&#x27;, SVR())])</pre><b>In a Jupyter environment, please rerun this cell to show the HTML representation or trust the notebook. <br />On GitHub, the HTML representation is unable to render, please try loading this page with nbviewer.org.</b></div><div class=\"sk-container\" hidden><div class=\"sk-item sk-dashed-wrapped\"><div class=\"sk-label-container\"><div class=\"sk-label sk-toggleable\"><input class=\"sk-toggleable__control sk-hidden--visually\" id=\"sk-estimator-id-19\" type=\"checkbox\" ><label for=\"sk-estimator-id-19\" class=\"sk-toggleable__label sk-toggleable__label-arrow\">Pipeline</label><div class=\"sk-toggleable__content\"><pre>Pipeline(steps=[(&#x27;preprocessor&#x27;,\n",
              "                 ColumnTransformer(remainder=&#x27;passthrough&#x27;,\n",
              "                                   transformers=[(&#x27;num&#x27;, StandardScaler(),\n",
              "                                                  [&#x27;BEDROOM_NUM&#x27;, &#x27;AGE&#x27;,\n",
              "                                                   &#x27;TOTAL_FLOOR&#x27;, &#x27;PRICE_SQFT&#x27;,\n",
              "                                                   &#x27;AREA&#x27;, &#x27;BALCONY_NUM&#x27;,\n",
              "                                                   &#x27;FLOOR_NUM&#x27;, &#x27;BHK&#x27;,\n",
              "                                                   &#x27;LATITUDE&#x27;, &#x27;LONGITUDE&#x27;]),\n",
              "                                                 (&#x27;cat&#x27;,\n",
              "                                                  OneHotEncoder(drop=&#x27;first&#x27;),\n",
              "                                                  [&#x27;AGE&#x27;, &#x27;OWNTYPE&#x27;, &#x27;FACING&#x27;,\n",
              "                                                   &#x27;PROPERTY_TYPE&#x27;, &#x27;LUXURY&#x27;,\n",
              "                                                   &#x27;SWIMMING_POOL&#x27;,\n",
              "                                                   &#x27;SWIMMING_POOL&#x27;,\n",
              "                                                   &#x27;CLUB_HOUSE&#x27;, &#x27;ATM&#x27;, &#x27;GYM&#x27;,\n",
              "                                                   &#x27;WASTE_DISPOSAL&#x27;,\n",
              "                                                   &#x27;GAS_PIPELINE&#x27;])])),\n",
              "                (&#x27;regressor&#x27;, SVR())])</pre></div></div></div><div class=\"sk-serial\"><div class=\"sk-item sk-dashed-wrapped\"><div class=\"sk-label-container\"><div class=\"sk-label sk-toggleable\"><input class=\"sk-toggleable__control sk-hidden--visually\" id=\"sk-estimator-id-20\" type=\"checkbox\" ><label for=\"sk-estimator-id-20\" class=\"sk-toggleable__label sk-toggleable__label-arrow\">preprocessor: ColumnTransformer</label><div class=\"sk-toggleable__content\"><pre>ColumnTransformer(remainder=&#x27;passthrough&#x27;,\n",
              "                  transformers=[(&#x27;num&#x27;, StandardScaler(),\n",
              "                                 [&#x27;BEDROOM_NUM&#x27;, &#x27;AGE&#x27;, &#x27;TOTAL_FLOOR&#x27;,\n",
              "                                  &#x27;PRICE_SQFT&#x27;, &#x27;AREA&#x27;, &#x27;BALCONY_NUM&#x27;,\n",
              "                                  &#x27;FLOOR_NUM&#x27;, &#x27;BHK&#x27;, &#x27;LATITUDE&#x27;,\n",
              "                                  &#x27;LONGITUDE&#x27;]),\n",
              "                                (&#x27;cat&#x27;, OneHotEncoder(drop=&#x27;first&#x27;),\n",
              "                                 [&#x27;AGE&#x27;, &#x27;OWNTYPE&#x27;, &#x27;FACING&#x27;, &#x27;PROPERTY_TYPE&#x27;,\n",
              "                                  &#x27;LUXURY&#x27;, &#x27;SWIMMING_POOL&#x27;, &#x27;SWIMMING_POOL&#x27;,\n",
              "                                  &#x27;CLUB_HOUSE&#x27;, &#x27;ATM&#x27;, &#x27;GYM&#x27;, &#x27;WASTE_DISPOSAL&#x27;,\n",
              "                                  &#x27;GAS_PIPELINE&#x27;])])</pre></div></div></div><div class=\"sk-parallel\"><div class=\"sk-parallel-item\"><div class=\"sk-item\"><div class=\"sk-label-container\"><div class=\"sk-label sk-toggleable\"><input class=\"sk-toggleable__control sk-hidden--visually\" id=\"sk-estimator-id-21\" type=\"checkbox\" ><label for=\"sk-estimator-id-21\" class=\"sk-toggleable__label sk-toggleable__label-arrow\">num</label><div class=\"sk-toggleable__content\"><pre>[&#x27;BEDROOM_NUM&#x27;, &#x27;AGE&#x27;, &#x27;TOTAL_FLOOR&#x27;, &#x27;PRICE_SQFT&#x27;, &#x27;AREA&#x27;, &#x27;BALCONY_NUM&#x27;, &#x27;FLOOR_NUM&#x27;, &#x27;BHK&#x27;, &#x27;LATITUDE&#x27;, &#x27;LONGITUDE&#x27;]</pre></div></div></div><div class=\"sk-serial\"><div class=\"sk-item\"><div class=\"sk-estimator sk-toggleable\"><input class=\"sk-toggleable__control sk-hidden--visually\" id=\"sk-estimator-id-22\" type=\"checkbox\" ><label for=\"sk-estimator-id-22\" class=\"sk-toggleable__label sk-toggleable__label-arrow\">StandardScaler</label><div class=\"sk-toggleable__content\"><pre>StandardScaler()</pre></div></div></div></div></div></div><div class=\"sk-parallel-item\"><div class=\"sk-item\"><div class=\"sk-label-container\"><div class=\"sk-label sk-toggleable\"><input class=\"sk-toggleable__control sk-hidden--visually\" id=\"sk-estimator-id-23\" type=\"checkbox\" ><label for=\"sk-estimator-id-23\" class=\"sk-toggleable__label sk-toggleable__label-arrow\">cat</label><div class=\"sk-toggleable__content\"><pre>[&#x27;AGE&#x27;, &#x27;OWNTYPE&#x27;, &#x27;FACING&#x27;, &#x27;PROPERTY_TYPE&#x27;, &#x27;LUXURY&#x27;, &#x27;SWIMMING_POOL&#x27;, &#x27;SWIMMING_POOL&#x27;, &#x27;CLUB_HOUSE&#x27;, &#x27;ATM&#x27;, &#x27;GYM&#x27;, &#x27;WASTE_DISPOSAL&#x27;, &#x27;GAS_PIPELINE&#x27;]</pre></div></div></div><div class=\"sk-serial\"><div class=\"sk-item\"><div class=\"sk-estimator sk-toggleable\"><input class=\"sk-toggleable__control sk-hidden--visually\" id=\"sk-estimator-id-24\" type=\"checkbox\" ><label for=\"sk-estimator-id-24\" class=\"sk-toggleable__label sk-toggleable__label-arrow\">OneHotEncoder</label><div class=\"sk-toggleable__content\"><pre>OneHotEncoder(drop=&#x27;first&#x27;)</pre></div></div></div></div></div></div><div class=\"sk-parallel-item\"><div class=\"sk-item\"><div class=\"sk-label-container\"><div class=\"sk-label sk-toggleable\"><input class=\"sk-toggleable__control sk-hidden--visually\" id=\"sk-estimator-id-25\" type=\"checkbox\" ><label for=\"sk-estimator-id-25\" class=\"sk-toggleable__label sk-toggleable__label-arrow\">remainder</label><div class=\"sk-toggleable__content\"><pre>[&#x27;POWER_BACKUP&#x27;]</pre></div></div></div><div class=\"sk-serial\"><div class=\"sk-item\"><div class=\"sk-estimator sk-toggleable\"><input class=\"sk-toggleable__control sk-hidden--visually\" id=\"sk-estimator-id-26\" type=\"checkbox\" ><label for=\"sk-estimator-id-26\" class=\"sk-toggleable__label sk-toggleable__label-arrow\">passthrough</label><div class=\"sk-toggleable__content\"><pre>passthrough</pre></div></div></div></div></div></div></div></div><div class=\"sk-item\"><div class=\"sk-estimator sk-toggleable\"><input class=\"sk-toggleable__control sk-hidden--visually\" id=\"sk-estimator-id-27\" type=\"checkbox\" ><label for=\"sk-estimator-id-27\" class=\"sk-toggleable__label sk-toggleable__label-arrow\">SVR</label><div class=\"sk-toggleable__content\"><pre>SVR()</pre></div></div></div></div></div></div></div>"
            ]
          },
          "metadata": {},
          "execution_count": 54
        }
      ]
    },
    {
      "cell_type": "code",
      "source": [
        "y_pred = pipeline.predict(X_test)"
      ],
      "metadata": {
        "id": "pJSYE-m6blVA"
      },
      "execution_count": 55,
      "outputs": []
    },
    {
      "cell_type": "code",
      "source": [
        "y_pred = np.expm1(y_pred)"
      ],
      "metadata": {
        "id": "4XokSBPbbnZA"
      },
      "execution_count": 56,
      "outputs": []
    },
    {
      "cell_type": "code",
      "source": [
        "mean_absolute_error(np.expm1(y_test),y_pred)"
      ],
      "metadata": {
        "colab": {
          "base_uri": "https://localhost:8080/"
        },
        "id": "xqm-S7dUbsU4",
        "outputId": "38e7c9d2-a0f2-48f2-b466-7bced908fdfe"
      },
      "execution_count": 57,
      "outputs": [
        {
          "output_type": "execute_result",
          "data": {
            "text/plain": [
              "0.3915842497938895"
            ]
          },
          "metadata": {},
          "execution_count": 57
        }
      ]
    },
    {
      "cell_type": "code",
      "source": [],
      "metadata": {
        "id": "pJDM1BVmcl4W"
      },
      "execution_count": 57,
      "outputs": []
    }
  ]
}