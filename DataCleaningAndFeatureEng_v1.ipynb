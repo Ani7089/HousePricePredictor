{
  "nbformat": 4,
  "nbformat_minor": 0,
  "metadata": {
    "colab": {
      "provenance": []
    },
    "kernelspec": {
      "name": "python3",
      "display_name": "Python 3"
    },
    "language_info": {
      "name": "python"
    }
  },
  "cells": [
    {
      "cell_type": "markdown",
      "source": [
        "# About dataset\n",
        "* 99Acres dataset contains the data of different cities data is divided on the basis of cities\n",
        "* I have only taken 2 cities to train the model so that it can be done in less computation"
      ],
      "metadata": {
        "id": "IREhpK4jpo61"
      }
    },
    {
      "cell_type": "code",
      "source": [
        "#Importing data of city gurgaon\n",
        "import pandas as pd\n",
        "gurgaon = pd.read_csv('/content/gurgaon_10k.csv')\n",
        "gurgaon.head(5)"
      ],
      "metadata": {
        "id": "pilKlMCOOIfV",
        "colab": {
          "base_uri": "https://localhost:8080/",
          "height": 637
        },
        "outputId": "a4829bec-edd8-4ef7-8ae4-535ddf7adf37"
      },
      "execution_count": 29,
      "outputs": [
        {
          "output_type": "stream",
          "name": "stderr",
          "text": [
            "<ipython-input-29-c47b2308c701>:3: DtypeWarning: Columns (66) have mixed types. Specify dtype option on import or set low_memory=False.\n",
            "  gurgaon = pd.read_csv('/content/gurgaon_10k.csv')\n"
          ]
        },
        {
          "output_type": "execute_result",
          "data": {
            "text/plain": [
              "     PROP_ID                                          PHOTO_URL  \\\n",
              "0  O71585872  https://mediacdn.99acres.com/media1/22409/13/4...   \n",
              "1  T71585466  https://mediacdn.99acres.com/media1/22425/6/44...   \n",
              "2  D71549524  https://mediacdn.99acres.com/media1/22386/13/4...   \n",
              "3  I71493958  https://mediacdn.99acres.com/media1/22353/14/4...   \n",
              "4  H71479412  https://mediacdn.99acres.com/media1/22352/4/44...   \n",
              "\n",
              "                                    MEDIUM_PHOTO_URL PREFERENCE  \\\n",
              "0  https://mediacdn.99acres.com/media1/22409/13/4...          S   \n",
              "1  https://mediacdn.99acres.com/media1/22425/6/44...          S   \n",
              "2  https://mediacdn.99acres.com/media1/22386/13/4...          R   \n",
              "3  https://mediacdn.99acres.com/media1/22353/14/4...          S   \n",
              "4  https://mediacdn.99acres.com/media1/22352/4/44...          R   \n",
              "\n",
              "                                         DESCRIPTION          PROPERTY_TYPE  \\\n",
              "0    4 bhk flat for resale in alpha corp gurgaon one  Residential Apartment   \n",
              "1  Explore dlf ultima, an upscale ready-To-Move h...  Residential Apartment   \n",
              "2  A 3 bhk flat for rent in sector 66 gurgaon clo...  Residential Apartment   \n",
              "3  Looking for a 3 bhk property for purchase in g...  Residential Apartment   \n",
              "4  This 4 bhk flat in sector 104 gurgaon is avail...  Residential Apartment   \n",
              "\n",
              "      CITY            LOCALITY  TRANSACT_TYPE  OWNTYPE  ...  LOCALITY_WO_CITY  \\\n",
              "0  Gurgaon   Sector 84 Gurgaon            1.0        1  ...         Sector 84   \n",
              "1  Gurgaon   Sector 81 Gurgaon            1.0        1  ...         Sector 81   \n",
              "2  Gurgaon   Sector 66 Gurgaon            NaN        0  ...         Sector 66   \n",
              "3  Gurgaon  Sector 112 Gurgaon            1.0        1  ...        Sector 112   \n",
              "4  Gurgaon  Sector 104 Gurgaon            NaN        0  ...        Sector 104   \n",
              "\n",
              "                                             profile  \\\n",
              "0  {'CONTACT_NAME': 'gaurav khosla', 'CONTACT_COM...   \n",
              "1  {'CONTACT_NAME': 'Kamal', 'CONTACT_COMPANY_NAM...   \n",
              "2  {'CONTACT_NAME': 'Sandeep', 'CONTACT_COMPANY_N...   \n",
              "3  {'CONTACT_NAME': 'Kohli', 'CONTACT_COMPANY_NAM...   \n",
              "4  {'CONTACT_NAME': 'Kohli', 'CONTACT_COMPANY_NAM...   \n",
              "\n",
              "                                                 xid  \\\n",
              "0  {'PROJECTID': 5096, 'PROJ_NAME': 'Alpha Corp G...   \n",
              "1  {'PROJECTID': 7182, 'PROJ_NAME': 'DLF The Ulti...   \n",
              "2  {'PROJECTID': 19, 'PROJ_NAME': 'Emaar MGF The ...   \n",
              "3  {'PROJECTID': 4342, 'PROJ_NAME': 'Experion Win...   \n",
              "4  {'PROJECTID': 25860, 'PROJ_NAME': 'ATS Triumph...   \n",
              "\n",
              "                                            metadata  \\\n",
              "0  {'PROP_PHOTO_COUNT': '4', 'PROP_VIDEO_COUNT': ...   \n",
              "1  {'PROP_PHOTO_COUNT': '4', 'PROP_VIDEO_COUNT': ...   \n",
              "2  {'PROP_PHOTO_COUNT': '1', 'PROP_VIDEO_COUNT': ...   \n",
              "3  {'PROP_PHOTO_COUNT': '1', 'PROP_VIDEO_COUNT': ...   \n",
              "4  {'PROP_PHOTO_COUNT': '14', 'PROP_VIDEO_COUNT':...   \n",
              "\n",
              "                                            location  BUILTUP_SQFT  \\\n",
              "0  {'CITY': '8', 'CITY_NAME': 'Gurgaon', 'BUILDIN...           NaN   \n",
              "1  {'CITY': '8', 'CITY_NAME': 'Gurgaon', 'BUILDIN...           NaN   \n",
              "2  {'CITY': '8', 'CITY_NAME': 'Gurgaon', 'BUILDIN...       1920.00   \n",
              "3  {'CITY': '8', 'CITY_NAME': 'Gurgaon', 'BUILDIN...       2225.56   \n",
              "4  {'CITY': '8', 'CITY_NAME': 'Gurgaon', 'BUILDIN...           NaN   \n",
              "\n",
              "   SUPER_SQFT COMMON_FURNISHING_ATTRIBUTES  QUALITY_SCORE  \\\n",
              "0         NaN                          NaN            NaN   \n",
              "1         NaN                          NaN            NaN   \n",
              "2         NaN                          NaN            NaN   \n",
              "3         NaN                          NaN            NaN   \n",
              "4         NaN                          NaN            NaN   \n",
              "\n",
              "  FURNISHING_ATTRIBUTES  \n",
              "0                   NaN  \n",
              "1                   NaN  \n",
              "2                   NaN  \n",
              "3                   NaN  \n",
              "4                   NaN  \n",
              "\n",
              "[5 rows x 67 columns]"
            ],
            "text/html": [
              "\n",
              "  <div id=\"df-85f186c1-c0d2-47f1-b57e-ba22982290fd\" class=\"colab-df-container\">\n",
              "    <div>\n",
              "<style scoped>\n",
              "    .dataframe tbody tr th:only-of-type {\n",
              "        vertical-align: middle;\n",
              "    }\n",
              "\n",
              "    .dataframe tbody tr th {\n",
              "        vertical-align: top;\n",
              "    }\n",
              "\n",
              "    .dataframe thead th {\n",
              "        text-align: right;\n",
              "    }\n",
              "</style>\n",
              "<table border=\"1\" class=\"dataframe\">\n",
              "  <thead>\n",
              "    <tr style=\"text-align: right;\">\n",
              "      <th></th>\n",
              "      <th>PROP_ID</th>\n",
              "      <th>PHOTO_URL</th>\n",
              "      <th>MEDIUM_PHOTO_URL</th>\n",
              "      <th>PREFERENCE</th>\n",
              "      <th>DESCRIPTION</th>\n",
              "      <th>PROPERTY_TYPE</th>\n",
              "      <th>CITY</th>\n",
              "      <th>LOCALITY</th>\n",
              "      <th>TRANSACT_TYPE</th>\n",
              "      <th>OWNTYPE</th>\n",
              "      <th>...</th>\n",
              "      <th>LOCALITY_WO_CITY</th>\n",
              "      <th>profile</th>\n",
              "      <th>xid</th>\n",
              "      <th>metadata</th>\n",
              "      <th>location</th>\n",
              "      <th>BUILTUP_SQFT</th>\n",
              "      <th>SUPER_SQFT</th>\n",
              "      <th>COMMON_FURNISHING_ATTRIBUTES</th>\n",
              "      <th>QUALITY_SCORE</th>\n",
              "      <th>FURNISHING_ATTRIBUTES</th>\n",
              "    </tr>\n",
              "  </thead>\n",
              "  <tbody>\n",
              "    <tr>\n",
              "      <th>0</th>\n",
              "      <td>O71585872</td>\n",
              "      <td>https://mediacdn.99acres.com/media1/22409/13/4...</td>\n",
              "      <td>https://mediacdn.99acres.com/media1/22409/13/4...</td>\n",
              "      <td>S</td>\n",
              "      <td>4 bhk flat for resale in alpha corp gurgaon one</td>\n",
              "      <td>Residential Apartment</td>\n",
              "      <td>Gurgaon</td>\n",
              "      <td>Sector 84 Gurgaon</td>\n",
              "      <td>1.0</td>\n",
              "      <td>1</td>\n",
              "      <td>...</td>\n",
              "      <td>Sector 84</td>\n",
              "      <td>{'CONTACT_NAME': 'gaurav khosla', 'CONTACT_COM...</td>\n",
              "      <td>{'PROJECTID': 5096, 'PROJ_NAME': 'Alpha Corp G...</td>\n",
              "      <td>{'PROP_PHOTO_COUNT': '4', 'PROP_VIDEO_COUNT': ...</td>\n",
              "      <td>{'CITY': '8', 'CITY_NAME': 'Gurgaon', 'BUILDIN...</td>\n",
              "      <td>NaN</td>\n",
              "      <td>NaN</td>\n",
              "      <td>NaN</td>\n",
              "      <td>NaN</td>\n",
              "      <td>NaN</td>\n",
              "    </tr>\n",
              "    <tr>\n",
              "      <th>1</th>\n",
              "      <td>T71585466</td>\n",
              "      <td>https://mediacdn.99acres.com/media1/22425/6/44...</td>\n",
              "      <td>https://mediacdn.99acres.com/media1/22425/6/44...</td>\n",
              "      <td>S</td>\n",
              "      <td>Explore dlf ultima, an upscale ready-To-Move h...</td>\n",
              "      <td>Residential Apartment</td>\n",
              "      <td>Gurgaon</td>\n",
              "      <td>Sector 81 Gurgaon</td>\n",
              "      <td>1.0</td>\n",
              "      <td>1</td>\n",
              "      <td>...</td>\n",
              "      <td>Sector 81</td>\n",
              "      <td>{'CONTACT_NAME': 'Kamal', 'CONTACT_COMPANY_NAM...</td>\n",
              "      <td>{'PROJECTID': 7182, 'PROJ_NAME': 'DLF The Ulti...</td>\n",
              "      <td>{'PROP_PHOTO_COUNT': '4', 'PROP_VIDEO_COUNT': ...</td>\n",
              "      <td>{'CITY': '8', 'CITY_NAME': 'Gurgaon', 'BUILDIN...</td>\n",
              "      <td>NaN</td>\n",
              "      <td>NaN</td>\n",
              "      <td>NaN</td>\n",
              "      <td>NaN</td>\n",
              "      <td>NaN</td>\n",
              "    </tr>\n",
              "    <tr>\n",
              "      <th>2</th>\n",
              "      <td>D71549524</td>\n",
              "      <td>https://mediacdn.99acres.com/media1/22386/13/4...</td>\n",
              "      <td>https://mediacdn.99acres.com/media1/22386/13/4...</td>\n",
              "      <td>R</td>\n",
              "      <td>A 3 bhk flat for rent in sector 66 gurgaon clo...</td>\n",
              "      <td>Residential Apartment</td>\n",
              "      <td>Gurgaon</td>\n",
              "      <td>Sector 66 Gurgaon</td>\n",
              "      <td>NaN</td>\n",
              "      <td>0</td>\n",
              "      <td>...</td>\n",
              "      <td>Sector 66</td>\n",
              "      <td>{'CONTACT_NAME': 'Sandeep', 'CONTACT_COMPANY_N...</td>\n",
              "      <td>{'PROJECTID': 19, 'PROJ_NAME': 'Emaar MGF The ...</td>\n",
              "      <td>{'PROP_PHOTO_COUNT': '1', 'PROP_VIDEO_COUNT': ...</td>\n",
              "      <td>{'CITY': '8', 'CITY_NAME': 'Gurgaon', 'BUILDIN...</td>\n",
              "      <td>1920.00</td>\n",
              "      <td>NaN</td>\n",
              "      <td>NaN</td>\n",
              "      <td>NaN</td>\n",
              "      <td>NaN</td>\n",
              "    </tr>\n",
              "    <tr>\n",
              "      <th>3</th>\n",
              "      <td>I71493958</td>\n",
              "      <td>https://mediacdn.99acres.com/media1/22353/14/4...</td>\n",
              "      <td>https://mediacdn.99acres.com/media1/22353/14/4...</td>\n",
              "      <td>S</td>\n",
              "      <td>Looking for a 3 bhk property for purchase in g...</td>\n",
              "      <td>Residential Apartment</td>\n",
              "      <td>Gurgaon</td>\n",
              "      <td>Sector 112 Gurgaon</td>\n",
              "      <td>1.0</td>\n",
              "      <td>1</td>\n",
              "      <td>...</td>\n",
              "      <td>Sector 112</td>\n",
              "      <td>{'CONTACT_NAME': 'Kohli', 'CONTACT_COMPANY_NAM...</td>\n",
              "      <td>{'PROJECTID': 4342, 'PROJ_NAME': 'Experion Win...</td>\n",
              "      <td>{'PROP_PHOTO_COUNT': '1', 'PROP_VIDEO_COUNT': ...</td>\n",
              "      <td>{'CITY': '8', 'CITY_NAME': 'Gurgaon', 'BUILDIN...</td>\n",
              "      <td>2225.56</td>\n",
              "      <td>NaN</td>\n",
              "      <td>NaN</td>\n",
              "      <td>NaN</td>\n",
              "      <td>NaN</td>\n",
              "    </tr>\n",
              "    <tr>\n",
              "      <th>4</th>\n",
              "      <td>H71479412</td>\n",
              "      <td>https://mediacdn.99acres.com/media1/22352/4/44...</td>\n",
              "      <td>https://mediacdn.99acres.com/media1/22352/4/44...</td>\n",
              "      <td>R</td>\n",
              "      <td>This 4 bhk flat in sector 104 gurgaon is avail...</td>\n",
              "      <td>Residential Apartment</td>\n",
              "      <td>Gurgaon</td>\n",
              "      <td>Sector 104 Gurgaon</td>\n",
              "      <td>NaN</td>\n",
              "      <td>0</td>\n",
              "      <td>...</td>\n",
              "      <td>Sector 104</td>\n",
              "      <td>{'CONTACT_NAME': 'Kohli', 'CONTACT_COMPANY_NAM...</td>\n",
              "      <td>{'PROJECTID': 25860, 'PROJ_NAME': 'ATS Triumph...</td>\n",
              "      <td>{'PROP_PHOTO_COUNT': '14', 'PROP_VIDEO_COUNT':...</td>\n",
              "      <td>{'CITY': '8', 'CITY_NAME': 'Gurgaon', 'BUILDIN...</td>\n",
              "      <td>NaN</td>\n",
              "      <td>NaN</td>\n",
              "      <td>NaN</td>\n",
              "      <td>NaN</td>\n",
              "      <td>NaN</td>\n",
              "    </tr>\n",
              "  </tbody>\n",
              "</table>\n",
              "<p>5 rows × 67 columns</p>\n",
              "</div>\n",
              "    <div class=\"colab-df-buttons\">\n",
              "\n",
              "  <div class=\"colab-df-container\">\n",
              "    <button class=\"colab-df-convert\" onclick=\"convertToInteractive('df-85f186c1-c0d2-47f1-b57e-ba22982290fd')\"\n",
              "            title=\"Convert this dataframe to an interactive table.\"\n",
              "            style=\"display:none;\">\n",
              "\n",
              "  <svg xmlns=\"http://www.w3.org/2000/svg\" height=\"24px\" viewBox=\"0 -960 960 960\">\n",
              "    <path d=\"M120-120v-720h720v720H120Zm60-500h600v-160H180v160Zm220 220h160v-160H400v160Zm0 220h160v-160H400v160ZM180-400h160v-160H180v160Zm440 0h160v-160H620v160ZM180-180h160v-160H180v160Zm440 0h160v-160H620v160Z\"/>\n",
              "  </svg>\n",
              "    </button>\n",
              "\n",
              "  <style>\n",
              "    .colab-df-container {\n",
              "      display:flex;\n",
              "      gap: 12px;\n",
              "    }\n",
              "\n",
              "    .colab-df-convert {\n",
              "      background-color: #E8F0FE;\n",
              "      border: none;\n",
              "      border-radius: 50%;\n",
              "      cursor: pointer;\n",
              "      display: none;\n",
              "      fill: #1967D2;\n",
              "      height: 32px;\n",
              "      padding: 0 0 0 0;\n",
              "      width: 32px;\n",
              "    }\n",
              "\n",
              "    .colab-df-convert:hover {\n",
              "      background-color: #E2EBFA;\n",
              "      box-shadow: 0px 1px 2px rgba(60, 64, 67, 0.3), 0px 1px 3px 1px rgba(60, 64, 67, 0.15);\n",
              "      fill: #174EA6;\n",
              "    }\n",
              "\n",
              "    .colab-df-buttons div {\n",
              "      margin-bottom: 4px;\n",
              "    }\n",
              "\n",
              "    [theme=dark] .colab-df-convert {\n",
              "      background-color: #3B4455;\n",
              "      fill: #D2E3FC;\n",
              "    }\n",
              "\n",
              "    [theme=dark] .colab-df-convert:hover {\n",
              "      background-color: #434B5C;\n",
              "      box-shadow: 0px 1px 3px 1px rgba(0, 0, 0, 0.15);\n",
              "      filter: drop-shadow(0px 1px 2px rgba(0, 0, 0, 0.3));\n",
              "      fill: #FFFFFF;\n",
              "    }\n",
              "  </style>\n",
              "\n",
              "    <script>\n",
              "      const buttonEl =\n",
              "        document.querySelector('#df-85f186c1-c0d2-47f1-b57e-ba22982290fd button.colab-df-convert');\n",
              "      buttonEl.style.display =\n",
              "        google.colab.kernel.accessAllowed ? 'block' : 'none';\n",
              "\n",
              "      async function convertToInteractive(key) {\n",
              "        const element = document.querySelector('#df-85f186c1-c0d2-47f1-b57e-ba22982290fd');\n",
              "        const dataTable =\n",
              "          await google.colab.kernel.invokeFunction('convertToInteractive',\n",
              "                                                    [key], {});\n",
              "        if (!dataTable) return;\n",
              "\n",
              "        const docLinkHtml = 'Like what you see? Visit the ' +\n",
              "          '<a target=\"_blank\" href=https://colab.research.google.com/notebooks/data_table.ipynb>data table notebook</a>'\n",
              "          + ' to learn more about interactive tables.';\n",
              "        element.innerHTML = '';\n",
              "        dataTable['output_type'] = 'display_data';\n",
              "        await google.colab.output.renderOutput(dataTable, element);\n",
              "        const docLink = document.createElement('div');\n",
              "        docLink.innerHTML = docLinkHtml;\n",
              "        element.appendChild(docLink);\n",
              "      }\n",
              "    </script>\n",
              "  </div>\n",
              "\n",
              "\n",
              "<div id=\"df-07a494f9-033c-445e-8589-6481e8b84850\">\n",
              "  <button class=\"colab-df-quickchart\" onclick=\"quickchart('df-07a494f9-033c-445e-8589-6481e8b84850')\"\n",
              "            title=\"Suggest charts\"\n",
              "            style=\"display:none;\">\n",
              "\n",
              "<svg xmlns=\"http://www.w3.org/2000/svg\" height=\"24px\"viewBox=\"0 0 24 24\"\n",
              "     width=\"24px\">\n",
              "    <g>\n",
              "        <path d=\"M19 3H5c-1.1 0-2 .9-2 2v14c0 1.1.9 2 2 2h14c1.1 0 2-.9 2-2V5c0-1.1-.9-2-2-2zM9 17H7v-7h2v7zm4 0h-2V7h2v10zm4 0h-2v-4h2v4z\"/>\n",
              "    </g>\n",
              "</svg>\n",
              "  </button>\n",
              "\n",
              "<style>\n",
              "  .colab-df-quickchart {\n",
              "      --bg-color: #E8F0FE;\n",
              "      --fill-color: #1967D2;\n",
              "      --hover-bg-color: #E2EBFA;\n",
              "      --hover-fill-color: #174EA6;\n",
              "      --disabled-fill-color: #AAA;\n",
              "      --disabled-bg-color: #DDD;\n",
              "  }\n",
              "\n",
              "  [theme=dark] .colab-df-quickchart {\n",
              "      --bg-color: #3B4455;\n",
              "      --fill-color: #D2E3FC;\n",
              "      --hover-bg-color: #434B5C;\n",
              "      --hover-fill-color: #FFFFFF;\n",
              "      --disabled-bg-color: #3B4455;\n",
              "      --disabled-fill-color: #666;\n",
              "  }\n",
              "\n",
              "  .colab-df-quickchart {\n",
              "    background-color: var(--bg-color);\n",
              "    border: none;\n",
              "    border-radius: 50%;\n",
              "    cursor: pointer;\n",
              "    display: none;\n",
              "    fill: var(--fill-color);\n",
              "    height: 32px;\n",
              "    padding: 0;\n",
              "    width: 32px;\n",
              "  }\n",
              "\n",
              "  .colab-df-quickchart:hover {\n",
              "    background-color: var(--hover-bg-color);\n",
              "    box-shadow: 0 1px 2px rgba(60, 64, 67, 0.3), 0 1px 3px 1px rgba(60, 64, 67, 0.15);\n",
              "    fill: var(--button-hover-fill-color);\n",
              "  }\n",
              "\n",
              "  .colab-df-quickchart-complete:disabled,\n",
              "  .colab-df-quickchart-complete:disabled:hover {\n",
              "    background-color: var(--disabled-bg-color);\n",
              "    fill: var(--disabled-fill-color);\n",
              "    box-shadow: none;\n",
              "  }\n",
              "\n",
              "  .colab-df-spinner {\n",
              "    border: 2px solid var(--fill-color);\n",
              "    border-color: transparent;\n",
              "    border-bottom-color: var(--fill-color);\n",
              "    animation:\n",
              "      spin 1s steps(1) infinite;\n",
              "  }\n",
              "\n",
              "  @keyframes spin {\n",
              "    0% {\n",
              "      border-color: transparent;\n",
              "      border-bottom-color: var(--fill-color);\n",
              "      border-left-color: var(--fill-color);\n",
              "    }\n",
              "    20% {\n",
              "      border-color: transparent;\n",
              "      border-left-color: var(--fill-color);\n",
              "      border-top-color: var(--fill-color);\n",
              "    }\n",
              "    30% {\n",
              "      border-color: transparent;\n",
              "      border-left-color: var(--fill-color);\n",
              "      border-top-color: var(--fill-color);\n",
              "      border-right-color: var(--fill-color);\n",
              "    }\n",
              "    40% {\n",
              "      border-color: transparent;\n",
              "      border-right-color: var(--fill-color);\n",
              "      border-top-color: var(--fill-color);\n",
              "    }\n",
              "    60% {\n",
              "      border-color: transparent;\n",
              "      border-right-color: var(--fill-color);\n",
              "    }\n",
              "    80% {\n",
              "      border-color: transparent;\n",
              "      border-right-color: var(--fill-color);\n",
              "      border-bottom-color: var(--fill-color);\n",
              "    }\n",
              "    90% {\n",
              "      border-color: transparent;\n",
              "      border-bottom-color: var(--fill-color);\n",
              "    }\n",
              "  }\n",
              "</style>\n",
              "\n",
              "  <script>\n",
              "    async function quickchart(key) {\n",
              "      const quickchartButtonEl =\n",
              "        document.querySelector('#' + key + ' button');\n",
              "      quickchartButtonEl.disabled = true;  // To prevent multiple clicks.\n",
              "      quickchartButtonEl.classList.add('colab-df-spinner');\n",
              "      try {\n",
              "        const charts = await google.colab.kernel.invokeFunction(\n",
              "            'suggestCharts', [key], {});\n",
              "      } catch (error) {\n",
              "        console.error('Error during call to suggestCharts:', error);\n",
              "      }\n",
              "      quickchartButtonEl.classList.remove('colab-df-spinner');\n",
              "      quickchartButtonEl.classList.add('colab-df-quickchart-complete');\n",
              "    }\n",
              "    (() => {\n",
              "      let quickchartButtonEl =\n",
              "        document.querySelector('#df-07a494f9-033c-445e-8589-6481e8b84850 button');\n",
              "      quickchartButtonEl.style.display =\n",
              "        google.colab.kernel.accessAllowed ? 'block' : 'none';\n",
              "    })();\n",
              "  </script>\n",
              "</div>\n",
              "\n",
              "    </div>\n",
              "  </div>\n"
            ],
            "application/vnd.google.colaboratory.intrinsic+json": {
              "type": "dataframe",
              "variable_name": "gurgaon"
            }
          },
          "metadata": {},
          "execution_count": 29
        }
      ]
    },
    {
      "cell_type": "code",
      "source": [
        "# Dropping useless column\n",
        "gurgaon.drop(columns = ['PHOTO_URL', 'MEDIUM_PHOTO_URL', 'EXPIRY_DATE', 'PD_URL', 'PROPERTY_IMAGES', 'THUMBNAIL_IMAGES', 'CONTACT_NAME', 'CONTACT_COMPANY_NAME', 'DEALER_PHOTO_URL', 'profile', 'xid', 'metadata', 'location'], inplace = True)"
      ],
      "metadata": {
        "id": "PhLUNJmQkqeP"
      },
      "execution_count": 30,
      "outputs": []
    },
    {
      "cell_type": "code",
      "source": [
        "# Dropping useless column\n",
        "gurgaon.drop(columns = ['COMMON_FURNISHING_ATTRIBUTES','QUALITY_SCORE','FURNISHING_ATTRIBUTES','BUILDING_ID', 'PROP_ID','PROP_DETAILS_URL','FSL_Data','TRANSACT_TYPE'], inplace = True)"
      ],
      "metadata": {
        "id": "rrM2l_mD1C-z"
      },
      "execution_count": 31,
      "outputs": []
    },
    {
      "cell_type": "code",
      "source": [
        "# Cleaning Locality column\n",
        "gurgaon['LOCALITY'] = gurgaon['LOCALITY'].str.split('Gurgaon').str.get(0).str.strip()"
      ],
      "metadata": {
        "id": "ffyAcOE8081G"
      },
      "execution_count": 32,
      "outputs": []
    },
    {
      "cell_type": "code",
      "source": [
        "# function used to find the BHK of house\n",
        "def get_bhk(text):\n",
        "  pattern = r'(\\d+)(?=\\s*bhk)'\n",
        "  x = list(set(re.findall(pattern, text)))\n",
        "  if len(x) == 0:\n",
        "    return None\n",
        "  else:\n",
        "    return x[0]"
      ],
      "metadata": {
        "id": "bybGED-v3Sj_"
      },
      "execution_count": 33,
      "outputs": []
    },
    {
      "cell_type": "code",
      "source": [
        "import re\n",
        "text = gurgaon['DESCRIPTION'].apply(lambda x: get_bhk(x))\n",
        "gurgaon['BHK'] = text"
      ],
      "metadata": {
        "id": "orh0keMy3Sne"
      },
      "execution_count": 34,
      "outputs": []
    },
    {
      "cell_type": "code",
      "source": [
        "gurgaon['BHK'] = gurgaon['BHK'].astype(float)"
      ],
      "metadata": {
        "id": "lN-5FkfYUyRE"
      },
      "execution_count": 35,
      "outputs": []
    },
    {
      "cell_type": "code",
      "source": [
        "# Extracting longitude and latitude From Map_details\n",
        "import ast\n",
        "Lat = []\n",
        "Long = []\n",
        "for d in gurgaon['MAP_DETAILS']:\n",
        "    lat = ast.literal_eval(d)['LATITUDE']\n",
        "    long = ast.literal_eval(d)['LONGITUDE']\n",
        "    Lat.append(lat)\n",
        "    Long.append(long)"
      ],
      "metadata": {
        "id": "LVptfNly7ztH"
      },
      "execution_count": 36,
      "outputs": []
    },
    {
      "cell_type": "code",
      "source": [
        "gurgaon['LATITUDE'] = pd.Series(Lat).astype(float)\n",
        "gurgaon['LONGITUDE'] = pd.Series(Long).astype(float)"
      ],
      "metadata": {
        "id": "T8NTluoG71Sp"
      },
      "execution_count": 37,
      "outputs": []
    },
    {
      "cell_type": "code",
      "source": [
        "# Cleaning Area column\n",
        "gurgaon['AREA'] = gurgaon['AREA'].str.split(' ', expand=True).get(0)"
      ],
      "metadata": {
        "id": "WMDjNrfV-Hta"
      },
      "execution_count": 38,
      "outputs": []
    },
    {
      "cell_type": "code",
      "source": [
        "# Dropping useless column\n",
        "gurgaon.drop(columns = ['CITY_ID','PREFERENCE','DESCRIPTION','REGISTER_DATE','LISTING','BROKERAGE','FORMATTED','TOP_USPS','GROUP_NAME'], inplace = True)"
      ],
      "metadata": {
        "id": "ndFnexX5p-_W"
      },
      "execution_count": 39,
      "outputs": []
    },
    {
      "cell_type": "code",
      "source": [
        "indx = gurgaon[gurgaon['PRICE'] == 'Price on Request']"
      ],
      "metadata": {
        "id": "EwcBPV7nD-er"
      },
      "execution_count": 40,
      "outputs": []
    },
    {
      "cell_type": "code",
      "source": [
        "gurgaon.drop(indx.index, inplace=True)"
      ],
      "metadata": {
        "id": "pXwdKbAAD-lA"
      },
      "execution_count": 41,
      "outputs": []
    },
    {
      "cell_type": "code",
      "source": [
        "# function to refine Price data\n",
        "def price(item):\n",
        "  if 'L' in item:\n",
        "    return float(item.replace('L', '').replace('.','').strip())*100000\n",
        "  elif 'Cr' in item:\n",
        "    return float(item.replace('Cr', '').strip())*10000000\n",
        "  elif ',' in item:\n",
        "    return float(item.replace(',','').strip())\n",
        "  else:\n",
        "    return float(item)"
      ],
      "metadata": {
        "id": "CLua8xNfEHGk"
      },
      "execution_count": 42,
      "outputs": []
    },
    {
      "cell_type": "code",
      "source": [
        "# function to refine Price data\n",
        "def p(item):\n",
        "  if '-' in item:\n",
        "    return item.split('-')[1]\n",
        "  else:\n",
        "    return item"
      ],
      "metadata": {
        "id": "8DJdY8cMIdV1"
      },
      "execution_count": 43,
      "outputs": []
    },
    {
      "cell_type": "code",
      "source": [
        "gurgaon['PRICE'] = gurgaon['PRICE'].apply(p).apply(price)"
      ],
      "metadata": {
        "id": "M5HccsE7EJNe"
      },
      "execution_count": 44,
      "outputs": []
    },
    {
      "cell_type": "code",
      "source": [
        "# Dropping useless column\n",
        "gurgaon.drop(columns = ['MIN_PRICE','MAX_PRICE','MIN_AREA_SQFT','MAX_AREA_SQFT','PROP_HEADING','CLASS_HEADING','CLASS_LABEL','SECONDARY_TAGS','TOTAL_LANDMARK_COUNT','FORMATTED_LANDMARK_DETAILS','SOCIETY_NAME','BUILDING_NAME','LOCALITY_WO_CITY','BUILTUP_SQFT','SUPER_SQFT'], inplace = True)"
      ],
      "metadata": {
        "id": "MTx6CG2zIgxd"
      },
      "execution_count": 45,
      "outputs": []
    },
    {
      "cell_type": "code",
      "source": [
        "# Dropping useless column\n",
        "gurgaon.drop(columns = ['MAP_DETAILS'], inplace = True)"
      ],
      "metadata": {
        "id": "S-xsrZY0Ig1A"
      },
      "execution_count": 46,
      "outputs": []
    },
    {
      "cell_type": "code",
      "source": [
        "# Dropping useless column\n",
        "gurgaon.drop(columns=['PRICE_PER_UNIT_AREA'],inplace = True)"
      ],
      "metadata": {
        "id": "eu95taoA4bHu"
      },
      "execution_count": 47,
      "outputs": []
    },
    {
      "cell_type": "code",
      "source": [
        "# calculating total sccore of amenities\n",
        "def calculate_luxury_score(amenities):\n",
        "    # Define amenity scores (adjust as needed)\n",
        "    amenity_scores = {\n",
        "        'Waste Disposal' : 1,\n",
        "        'Rain Water Harvesting' : 3,\n",
        "        'Bank Attached Property' : 2,\n",
        "        'Power Back-up' : 4,\n",
        "        'Feng Shui / Vaastu Compliant' : 5,\n",
        "        'Private Garden / Terrace' : 8,\n",
        "        'Centrally Air Conditioned' : 9,\n",
        "        'Security / Fire Alarm' : 7,\n",
        "        'Intercom Facility' : 6,\n",
        "        'Water Storage' : 2,\n",
        "        'Piped-gas' : 3,\n",
        "        'Water purifier' : 4,\n",
        "        'Near Bank' : 1,\n",
        "        'Swimming Pool' : 9,\n",
        "        'Club house / Community Center' : 8,\n",
        "        'Park' : 5,\n",
        "        'Security Personnel' : 7,\n",
        "        'Fitness Centre / GYM' : 8,\n",
        "        'Visitor Parking' : 4,\n",
        "        'Lift(s)' : 9,\n",
        "        'Maintenance Staff' : 6,\n",
        "        'Shopping Centre' : 7,\n",
        "        'WheelChair Accessibility' : 5,\n",
        "        'DG Availability' : 8,\n",
        "        'CCTV Surveillance' : 6,\n",
        "        'Grade A Building' : 9,\n",
        "        'Grocery Shop' : 3,\n",
        "        'ATM' : 1,\n",
        "        'Cafeteria / Food Court' : 7,\n",
        "        'Bar / Lounge' : 9,\n",
        "        'Conference room' : 8,\n",
        "        'Service / Goods Lift' : 6,\n",
        "        'Access to High Speed Internet' : 9\n",
        "        # Add other amenities and their scores here\n",
        "    }\n",
        "\n",
        "    # Calculate total luxury score for the property\n",
        "    total_score = sum(amenity_scores.get(amenity, 1) for amenity in amenities)\n",
        "\n",
        "    return total_score\n",
        "\n",
        "def categorize_property(total_score):\n",
        "    if total_score >= 15:\n",
        "        return \"Luxury\"\n",
        "    elif 8 <= total_score <= 14:\n",
        "        return \"Semi-luxury\"\n",
        "    else:\n",
        "        return \"Budget\"\n",
        "\n",
        "\n",
        "luxury_score = gurgaon['PROPERTY_TYPE'].apply(calculate_luxury_score)\n",
        "gurgaon['LUXURY'] = luxury_score.apply(categorize_property)\n",
        "print(f\"Total Luxury Score: {luxury_score}\")\n",
        "print(f\"Category: {gurgaon['LUXURY']}\")"
      ],
      "metadata": {
        "id": "opi6_CgLPV4I",
        "colab": {
          "base_uri": "https://localhost:8080/"
        },
        "outputId": "6cce07da-6b9c-4e9d-d6eb-ca46e5e854a2"
      },
      "execution_count": 48,
      "outputs": [
        {
          "output_type": "stream",
          "name": "stdout",
          "text": [
            "Total Luxury Score: 0        21\n",
            "1        21\n",
            "2        21\n",
            "3        21\n",
            "4        21\n",
            "         ..\n",
            "10699    21\n",
            "10700    21\n",
            "10701    21\n",
            "10702    21\n",
            "10703    25\n",
            "Name: PROPERTY_TYPE, Length: 10682, dtype: int64\n",
            "Category: 0        Luxury\n",
            "1        Luxury\n",
            "2        Luxury\n",
            "3        Luxury\n",
            "4        Luxury\n",
            "          ...  \n",
            "10699    Luxury\n",
            "10700    Luxury\n",
            "10701    Luxury\n",
            "10702    Luxury\n",
            "10703    Luxury\n",
            "Name: LUXURY, Length: 10682, dtype: object\n"
          ]
        }
      ]
    },
    {
      "cell_type": "code",
      "source": [
        "# Dropping useless column\n",
        "gurgaon.drop(columns = ['AMENITIES'], inplace = True)"
      ],
      "metadata": {
        "id": "4hnCGxSggX_c"
      },
      "execution_count": 49,
      "outputs": []
    },
    {
      "cell_type": "code",
      "source": [
        "# Dropping useless column\n",
        "gurgaon.drop(columns=['PROP_NAME'],inplace = True)"
      ],
      "metadata": {
        "id": "WWWe16H9-7lO"
      },
      "execution_count": 50,
      "outputs": []
    },
    {
      "cell_type": "code",
      "source": [
        "# Dropping useless column\n",
        "gurgaon.drop(columns=['BATHROOM_NUM'], inplace=True)"
      ],
      "metadata": {
        "id": "tybfV2qSSdYr"
      },
      "execution_count": 51,
      "outputs": []
    },
    {
      "cell_type": "code",
      "source": [
        "# Dropping duplicates\n",
        "gurgaon.drop_duplicates(inplace = True)"
      ],
      "metadata": {
        "id": "309m6jZmgYDo"
      },
      "execution_count": 52,
      "outputs": []
    },
    {
      "cell_type": "code",
      "source": [
        "gurgaon[(gurgaon['CARPET_SQFT'] == None) & (gurgaon['SUPERBUILTUP_SQFT'] == None)]"
      ],
      "metadata": {
        "id": "OOuzS8sz-pIg",
        "colab": {
          "base_uri": "https://localhost:8080/",
          "height": 99
        },
        "outputId": "b76fdef1-d78e-47fe-e064-812e1a383e0d"
      },
      "execution_count": 53,
      "outputs": [
        {
          "output_type": "execute_result",
          "data": {
            "text/plain": [
              "Empty DataFrame\n",
              "Columns: [PROPERTY_TYPE, CITY, LOCALITY, OWNTYPE, BEDROOM_NUM, BALCONY_NUM, FURNISH, FACING, AGE, FLOOR_NUM, TOTAL_FLOOR, FEATURES, PRICE_SQFT, CARPET_SQFT, SUPERBUILTUP_SQFT, AREA, PRICE, BHK, LATITUDE, LONGITUDE, LUXURY]\n",
              "Index: []\n",
              "\n",
              "[0 rows x 21 columns]"
            ],
            "text/html": [
              "\n",
              "  <div id=\"df-65aa7ef1-482b-4070-8eee-30dd20464e19\" class=\"colab-df-container\">\n",
              "    <div>\n",
              "<style scoped>\n",
              "    .dataframe tbody tr th:only-of-type {\n",
              "        vertical-align: middle;\n",
              "    }\n",
              "\n",
              "    .dataframe tbody tr th {\n",
              "        vertical-align: top;\n",
              "    }\n",
              "\n",
              "    .dataframe thead th {\n",
              "        text-align: right;\n",
              "    }\n",
              "</style>\n",
              "<table border=\"1\" class=\"dataframe\">\n",
              "  <thead>\n",
              "    <tr style=\"text-align: right;\">\n",
              "      <th></th>\n",
              "      <th>PROPERTY_TYPE</th>\n",
              "      <th>CITY</th>\n",
              "      <th>LOCALITY</th>\n",
              "      <th>OWNTYPE</th>\n",
              "      <th>BEDROOM_NUM</th>\n",
              "      <th>BALCONY_NUM</th>\n",
              "      <th>FURNISH</th>\n",
              "      <th>FACING</th>\n",
              "      <th>AGE</th>\n",
              "      <th>FLOOR_NUM</th>\n",
              "      <th>...</th>\n",
              "      <th>FEATURES</th>\n",
              "      <th>PRICE_SQFT</th>\n",
              "      <th>CARPET_SQFT</th>\n",
              "      <th>SUPERBUILTUP_SQFT</th>\n",
              "      <th>AREA</th>\n",
              "      <th>PRICE</th>\n",
              "      <th>BHK</th>\n",
              "      <th>LATITUDE</th>\n",
              "      <th>LONGITUDE</th>\n",
              "      <th>LUXURY</th>\n",
              "    </tr>\n",
              "  </thead>\n",
              "  <tbody>\n",
              "  </tbody>\n",
              "</table>\n",
              "<p>0 rows × 21 columns</p>\n",
              "</div>\n",
              "    <div class=\"colab-df-buttons\">\n",
              "\n",
              "  <div class=\"colab-df-container\">\n",
              "    <button class=\"colab-df-convert\" onclick=\"convertToInteractive('df-65aa7ef1-482b-4070-8eee-30dd20464e19')\"\n",
              "            title=\"Convert this dataframe to an interactive table.\"\n",
              "            style=\"display:none;\">\n",
              "\n",
              "  <svg xmlns=\"http://www.w3.org/2000/svg\" height=\"24px\" viewBox=\"0 -960 960 960\">\n",
              "    <path d=\"M120-120v-720h720v720H120Zm60-500h600v-160H180v160Zm220 220h160v-160H400v160Zm0 220h160v-160H400v160ZM180-400h160v-160H180v160Zm440 0h160v-160H620v160ZM180-180h160v-160H180v160Zm440 0h160v-160H620v160Z\"/>\n",
              "  </svg>\n",
              "    </button>\n",
              "\n",
              "  <style>\n",
              "    .colab-df-container {\n",
              "      display:flex;\n",
              "      gap: 12px;\n",
              "    }\n",
              "\n",
              "    .colab-df-convert {\n",
              "      background-color: #E8F0FE;\n",
              "      border: none;\n",
              "      border-radius: 50%;\n",
              "      cursor: pointer;\n",
              "      display: none;\n",
              "      fill: #1967D2;\n",
              "      height: 32px;\n",
              "      padding: 0 0 0 0;\n",
              "      width: 32px;\n",
              "    }\n",
              "\n",
              "    .colab-df-convert:hover {\n",
              "      background-color: #E2EBFA;\n",
              "      box-shadow: 0px 1px 2px rgba(60, 64, 67, 0.3), 0px 1px 3px 1px rgba(60, 64, 67, 0.15);\n",
              "      fill: #174EA6;\n",
              "    }\n",
              "\n",
              "    .colab-df-buttons div {\n",
              "      margin-bottom: 4px;\n",
              "    }\n",
              "\n",
              "    [theme=dark] .colab-df-convert {\n",
              "      background-color: #3B4455;\n",
              "      fill: #D2E3FC;\n",
              "    }\n",
              "\n",
              "    [theme=dark] .colab-df-convert:hover {\n",
              "      background-color: #434B5C;\n",
              "      box-shadow: 0px 1px 3px 1px rgba(0, 0, 0, 0.15);\n",
              "      filter: drop-shadow(0px 1px 2px rgba(0, 0, 0, 0.3));\n",
              "      fill: #FFFFFF;\n",
              "    }\n",
              "  </style>\n",
              "\n",
              "    <script>\n",
              "      const buttonEl =\n",
              "        document.querySelector('#df-65aa7ef1-482b-4070-8eee-30dd20464e19 button.colab-df-convert');\n",
              "      buttonEl.style.display =\n",
              "        google.colab.kernel.accessAllowed ? 'block' : 'none';\n",
              "\n",
              "      async function convertToInteractive(key) {\n",
              "        const element = document.querySelector('#df-65aa7ef1-482b-4070-8eee-30dd20464e19');\n",
              "        const dataTable =\n",
              "          await google.colab.kernel.invokeFunction('convertToInteractive',\n",
              "                                                    [key], {});\n",
              "        if (!dataTable) return;\n",
              "\n",
              "        const docLinkHtml = 'Like what you see? Visit the ' +\n",
              "          '<a target=\"_blank\" href=https://colab.research.google.com/notebooks/data_table.ipynb>data table notebook</a>'\n",
              "          + ' to learn more about interactive tables.';\n",
              "        element.innerHTML = '';\n",
              "        dataTable['output_type'] = 'display_data';\n",
              "        await google.colab.output.renderOutput(dataTable, element);\n",
              "        const docLink = document.createElement('div');\n",
              "        docLink.innerHTML = docLinkHtml;\n",
              "        element.appendChild(docLink);\n",
              "      }\n",
              "    </script>\n",
              "  </div>\n",
              "\n",
              "\n",
              "    </div>\n",
              "  </div>\n"
            ],
            "application/vnd.google.colaboratory.intrinsic+json": {
              "type": "dataframe"
            }
          },
          "metadata": {},
          "execution_count": 53
        }
      ]
    },
    {
      "cell_type": "code",
      "source": [
        "gurgaon.to_csv('gurgaon_cleaned.csv',index = True)"
      ],
      "metadata": {
        "id": "LT3bvTM9gYBj"
      },
      "execution_count": 54,
      "outputs": []
    },
    {
      "cell_type": "code",
      "source": [
        "gurgaon.info()"
      ],
      "metadata": {
        "id": "MABMrjFC-pMG",
        "colab": {
          "base_uri": "https://localhost:8080/"
        },
        "outputId": "002856e8-787c-4851-d1f1-e6bbbd860c2e"
      },
      "execution_count": 55,
      "outputs": [
        {
          "output_type": "stream",
          "name": "stdout",
          "text": [
            "<class 'pandas.core.frame.DataFrame'>\n",
            "Index: 10671 entries, 0 to 10703\n",
            "Data columns (total 21 columns):\n",
            " #   Column             Non-Null Count  Dtype  \n",
            "---  ------             --------------  -----  \n",
            " 0   PROPERTY_TYPE      10671 non-null  object \n",
            " 1   CITY               10671 non-null  object \n",
            " 2   LOCALITY           10671 non-null  object \n",
            " 3   OWNTYPE            10671 non-null  int64  \n",
            " 4   BEDROOM_NUM        10479 non-null  float64\n",
            " 5   BALCONY_NUM        10472 non-null  float64\n",
            " 6   FURNISH            10671 non-null  int64  \n",
            " 7   FACING             10671 non-null  int64  \n",
            " 8   AGE                10671 non-null  int64  \n",
            " 9   FLOOR_NUM          9777 non-null   object \n",
            " 10  TOTAL_FLOOR        10664 non-null  float64\n",
            " 11  FEATURES           10671 non-null  object \n",
            " 12  PRICE_SQFT         10671 non-null  float64\n",
            " 13  CARPET_SQFT        6526 non-null   float64\n",
            " 14  SUPERBUILTUP_SQFT  6689 non-null   float64\n",
            " 15  AREA               10671 non-null  object \n",
            " 16  PRICE              10671 non-null  float64\n",
            " 17  BHK                7193 non-null   float64\n",
            " 18  LATITUDE           10671 non-null  float64\n",
            " 19  LONGITUDE          10671 non-null  float64\n",
            " 20  LUXURY             10671 non-null  object \n",
            "dtypes: float64(10), int64(4), object(7)\n",
            "memory usage: 1.8+ MB\n"
          ]
        }
      ]
    },
    {
      "cell_type": "code",
      "source": [],
      "metadata": {
        "id": "ovW1vyMngYHI"
      },
      "execution_count": 55,
      "outputs": []
    },
    {
      "cell_type": "code",
      "source": [],
      "metadata": {
        "id": "WhHsrvQdqgbF"
      },
      "execution_count": 55,
      "outputs": []
    },
    {
      "cell_type": "code",
      "source": [],
      "metadata": {
        "id": "oezLk7QdrByS"
      },
      "execution_count": 55,
      "outputs": []
    },
    {
      "cell_type": "code",
      "source": [],
      "metadata": {
        "id": "T8xW3KdNCZhc"
      },
      "execution_count": 55,
      "outputs": []
    },
    {
      "cell_type": "code",
      "source": [],
      "metadata": {
        "id": "qDd2WT85yG-t"
      },
      "execution_count": 55,
      "outputs": []
    },
    {
      "cell_type": "code",
      "source": [
        "# am = pd.read_excel('/content/amenities.xlsx')\n",
        "# # am.reset_index(drop=True, inplace=True)\n",
        "# am.set_index('id')"
      ],
      "metadata": {
        "id": "XUZtp-Jwym8s"
      },
      "execution_count": 56,
      "outputs": []
    },
    {
      "cell_type": "code",
      "source": [
        "import pandas as pd"
      ],
      "metadata": {
        "id": "pxWdVTegcpQT"
      },
      "execution_count": 57,
      "outputs": []
    },
    {
      "cell_type": "code",
      "source": [
        "pd.set_option('display.max_columns', None)"
      ],
      "metadata": {
        "id": "9ytQCli8j0rX"
      },
      "execution_count": 58,
      "outputs": []
    },
    {
      "cell_type": "code",
      "source": [
        "pd.set_option('display.max_rows', None)"
      ],
      "metadata": {
        "id": "Z4Wrl50Qj0tn"
      },
      "execution_count": 59,
      "outputs": []
    },
    {
      "cell_type": "code",
      "source": [
        "# importing hyderbad dataset\n",
        "hyderbad = pd.read_csv('/content/hyderabad.csv')\n",
        "hyderbad.head(1)"
      ],
      "metadata": {
        "colab": {
          "base_uri": "https://localhost:8080/",
          "height": 170
        },
        "id": "DLISyT1Tj0vv",
        "outputId": "4897dd23-80c3-4389-bf52-779036947dc6"
      },
      "execution_count": 60,
      "outputs": [
        {
          "output_type": "execute_result",
          "data": {
            "text/plain": [
              "       SPID    PROP_ID PREFERENCE  \\\n",
              "0  70135726  Z70135726          S   \n",
              "\n",
              "                                         DESCRIPTION          PROPERTY_TYPE  \\\n",
              "0  Hmda, rera approved residential apartments at ...  Residential Apartment   \n",
              "\n",
              "           CITY  TRANSACT_TYPE  OWNTYPE  BEDROOM_NUM  PRICE_PER_UNIT_AREA  \\\n",
              "0  Secunderabad            1.0        1          2.0               5700.0   \n",
              "\n",
              "   FURNISH  FACING  AGE  TOTAL_FLOOR            FEATURES   REGISTER_DATE  \\\n",
              "0        2       4    1          5.0  23,24,5,17,6,20,21  08th Jul, 2023   \n",
              "\n",
              "   POSTING_DATE    UPDATE_DATE CLASS RES_COM PROP_NAME  PROPERTY_NUMBER  \\\n",
              "0  1.688834e+12  1689100520000     A       R    Evolve                1   \n",
              "\n",
              "   MIN_PRICE  MAX_PRICE  PRICE_SQFT  PROJ_ID  BUILDING_ID VERIFIED  \\\n",
              "0    6925500    6925500      5700.0        0            0        N   \n",
              "\n",
              "                                         MAP_DETAILS  MIN_AREA_SQFT  \\\n",
              "0  {'LATITUDE': '17.575957', 'LONGITUDE': '78.471...     112.877145   \n",
              "\n",
              "   MAX_AREA_SQFT           AMENITIES  \\\n",
              "0     112.877145  5,17,20,21,23,24,6   \n",
              "\n",
              "                                             ALT_TAG     PRODUCT_TYPE  \\\n",
              "0  ₹69.25 Lac, 2 bhk Residential Apartment in Gun...  PREMIUM_LISTING   \n",
              "\n",
              "  TOP_USPS          EXPIRY_DATE  PROPERTY_TYPE__U         AREA SECONDARY_AREA  \\\n",
              "0      NaN  2023-09-06 00:00:00                 1  1215 sq.ft.   112.88 sq.m.   \n",
              "\n",
              "     PRICE                     PROP_HEADING VALUE_LABEL  \\\n",
              "0  69.25 L  2 BHK Flat in Gundlapochampalli    Freehold   \n",
              "\n",
              "                CLASS_HEADING CLASS_LABEL     REGISTER_DATE__U  \\\n",
              "0  Dealer: Rainbow Developers      Dealer  2023-07-08 22:01:14   \n",
              "\n",
              "  REGISTERED_DAYS  PRIMARY_TAGS               SECONDARY_TAGS  \\\n",
              "0     1 month ago  ['FEATURED']  ['READY TO MOVE', 'RESALE']   \n",
              "\n",
              "   TOTAL_LANDMARK_COUNT FORMATTED_LANDMARK_DETAILS SOCIETY_NAME BUILDING_NAME  \\\n",
              "0                   9.0    [{'text': '1 Library'}]       Evolve        Evolve   \n",
              "\n",
              "                                            location  BALCONY_NUM FLOOR_NUM  \n",
              "0  {'CITY': '268', 'CITY_NAME': 'Secunderabad', '...          1.0         2  "
            ],
            "text/html": [
              "\n",
              "  <div id=\"df-d8fcb179-506a-473f-87dc-686ecdba1c77\" class=\"colab-df-container\">\n",
              "    <div>\n",
              "<style scoped>\n",
              "    .dataframe tbody tr th:only-of-type {\n",
              "        vertical-align: middle;\n",
              "    }\n",
              "\n",
              "    .dataframe tbody tr th {\n",
              "        vertical-align: top;\n",
              "    }\n",
              "\n",
              "    .dataframe thead th {\n",
              "        text-align: right;\n",
              "    }\n",
              "</style>\n",
              "<table border=\"1\" class=\"dataframe\">\n",
              "  <thead>\n",
              "    <tr style=\"text-align: right;\">\n",
              "      <th></th>\n",
              "      <th>SPID</th>\n",
              "      <th>PROP_ID</th>\n",
              "      <th>PREFERENCE</th>\n",
              "      <th>DESCRIPTION</th>\n",
              "      <th>PROPERTY_TYPE</th>\n",
              "      <th>CITY</th>\n",
              "      <th>TRANSACT_TYPE</th>\n",
              "      <th>OWNTYPE</th>\n",
              "      <th>BEDROOM_NUM</th>\n",
              "      <th>PRICE_PER_UNIT_AREA</th>\n",
              "      <th>FURNISH</th>\n",
              "      <th>FACING</th>\n",
              "      <th>AGE</th>\n",
              "      <th>TOTAL_FLOOR</th>\n",
              "      <th>FEATURES</th>\n",
              "      <th>REGISTER_DATE</th>\n",
              "      <th>POSTING_DATE</th>\n",
              "      <th>UPDATE_DATE</th>\n",
              "      <th>CLASS</th>\n",
              "      <th>RES_COM</th>\n",
              "      <th>PROP_NAME</th>\n",
              "      <th>PROPERTY_NUMBER</th>\n",
              "      <th>MIN_PRICE</th>\n",
              "      <th>MAX_PRICE</th>\n",
              "      <th>PRICE_SQFT</th>\n",
              "      <th>PROJ_ID</th>\n",
              "      <th>BUILDING_ID</th>\n",
              "      <th>VERIFIED</th>\n",
              "      <th>MAP_DETAILS</th>\n",
              "      <th>MIN_AREA_SQFT</th>\n",
              "      <th>MAX_AREA_SQFT</th>\n",
              "      <th>AMENITIES</th>\n",
              "      <th>ALT_TAG</th>\n",
              "      <th>PRODUCT_TYPE</th>\n",
              "      <th>TOP_USPS</th>\n",
              "      <th>EXPIRY_DATE</th>\n",
              "      <th>PROPERTY_TYPE__U</th>\n",
              "      <th>AREA</th>\n",
              "      <th>SECONDARY_AREA</th>\n",
              "      <th>PRICE</th>\n",
              "      <th>PROP_HEADING</th>\n",
              "      <th>VALUE_LABEL</th>\n",
              "      <th>CLASS_HEADING</th>\n",
              "      <th>CLASS_LABEL</th>\n",
              "      <th>REGISTER_DATE__U</th>\n",
              "      <th>REGISTERED_DAYS</th>\n",
              "      <th>PRIMARY_TAGS</th>\n",
              "      <th>SECONDARY_TAGS</th>\n",
              "      <th>TOTAL_LANDMARK_COUNT</th>\n",
              "      <th>FORMATTED_LANDMARK_DETAILS</th>\n",
              "      <th>SOCIETY_NAME</th>\n",
              "      <th>BUILDING_NAME</th>\n",
              "      <th>location</th>\n",
              "      <th>BALCONY_NUM</th>\n",
              "      <th>FLOOR_NUM</th>\n",
              "    </tr>\n",
              "  </thead>\n",
              "  <tbody>\n",
              "    <tr>\n",
              "      <th>0</th>\n",
              "      <td>70135726</td>\n",
              "      <td>Z70135726</td>\n",
              "      <td>S</td>\n",
              "      <td>Hmda, rera approved residential apartments at ...</td>\n",
              "      <td>Residential Apartment</td>\n",
              "      <td>Secunderabad</td>\n",
              "      <td>1.0</td>\n",
              "      <td>1</td>\n",
              "      <td>2.0</td>\n",
              "      <td>5700.0</td>\n",
              "      <td>2</td>\n",
              "      <td>4</td>\n",
              "      <td>1</td>\n",
              "      <td>5.0</td>\n",
              "      <td>23,24,5,17,6,20,21</td>\n",
              "      <td>08th Jul, 2023</td>\n",
              "      <td>1.688834e+12</td>\n",
              "      <td>1689100520000</td>\n",
              "      <td>A</td>\n",
              "      <td>R</td>\n",
              "      <td>Evolve</td>\n",
              "      <td>1</td>\n",
              "      <td>6925500</td>\n",
              "      <td>6925500</td>\n",
              "      <td>5700.0</td>\n",
              "      <td>0</td>\n",
              "      <td>0</td>\n",
              "      <td>N</td>\n",
              "      <td>{'LATITUDE': '17.575957', 'LONGITUDE': '78.471...</td>\n",
              "      <td>112.877145</td>\n",
              "      <td>112.877145</td>\n",
              "      <td>5,17,20,21,23,24,6</td>\n",
              "      <td>₹69.25 Lac, 2 bhk Residential Apartment in Gun...</td>\n",
              "      <td>PREMIUM_LISTING</td>\n",
              "      <td>NaN</td>\n",
              "      <td>2023-09-06 00:00:00</td>\n",
              "      <td>1</td>\n",
              "      <td>1215 sq.ft.</td>\n",
              "      <td>112.88 sq.m.</td>\n",
              "      <td>69.25 L</td>\n",
              "      <td>2 BHK Flat in Gundlapochampalli</td>\n",
              "      <td>Freehold</td>\n",
              "      <td>Dealer: Rainbow Developers</td>\n",
              "      <td>Dealer</td>\n",
              "      <td>2023-07-08 22:01:14</td>\n",
              "      <td>1 month ago</td>\n",
              "      <td>['FEATURED']</td>\n",
              "      <td>['READY TO MOVE', 'RESALE']</td>\n",
              "      <td>9.0</td>\n",
              "      <td>[{'text': '1 Library'}]</td>\n",
              "      <td>Evolve</td>\n",
              "      <td>Evolve</td>\n",
              "      <td>{'CITY': '268', 'CITY_NAME': 'Secunderabad', '...</td>\n",
              "      <td>1.0</td>\n",
              "      <td>2</td>\n",
              "    </tr>\n",
              "  </tbody>\n",
              "</table>\n",
              "</div>\n",
              "    <div class=\"colab-df-buttons\">\n",
              "\n",
              "  <div class=\"colab-df-container\">\n",
              "    <button class=\"colab-df-convert\" onclick=\"convertToInteractive('df-d8fcb179-506a-473f-87dc-686ecdba1c77')\"\n",
              "            title=\"Convert this dataframe to an interactive table.\"\n",
              "            style=\"display:none;\">\n",
              "\n",
              "  <svg xmlns=\"http://www.w3.org/2000/svg\" height=\"24px\" viewBox=\"0 -960 960 960\">\n",
              "    <path d=\"M120-120v-720h720v720H120Zm60-500h600v-160H180v160Zm220 220h160v-160H400v160Zm0 220h160v-160H400v160ZM180-400h160v-160H180v160Zm440 0h160v-160H620v160ZM180-180h160v-160H180v160Zm440 0h160v-160H620v160Z\"/>\n",
              "  </svg>\n",
              "    </button>\n",
              "\n",
              "  <style>\n",
              "    .colab-df-container {\n",
              "      display:flex;\n",
              "      gap: 12px;\n",
              "    }\n",
              "\n",
              "    .colab-df-convert {\n",
              "      background-color: #E8F0FE;\n",
              "      border: none;\n",
              "      border-radius: 50%;\n",
              "      cursor: pointer;\n",
              "      display: none;\n",
              "      fill: #1967D2;\n",
              "      height: 32px;\n",
              "      padding: 0 0 0 0;\n",
              "      width: 32px;\n",
              "    }\n",
              "\n",
              "    .colab-df-convert:hover {\n",
              "      background-color: #E2EBFA;\n",
              "      box-shadow: 0px 1px 2px rgba(60, 64, 67, 0.3), 0px 1px 3px 1px rgba(60, 64, 67, 0.15);\n",
              "      fill: #174EA6;\n",
              "    }\n",
              "\n",
              "    .colab-df-buttons div {\n",
              "      margin-bottom: 4px;\n",
              "    }\n",
              "\n",
              "    [theme=dark] .colab-df-convert {\n",
              "      background-color: #3B4455;\n",
              "      fill: #D2E3FC;\n",
              "    }\n",
              "\n",
              "    [theme=dark] .colab-df-convert:hover {\n",
              "      background-color: #434B5C;\n",
              "      box-shadow: 0px 1px 3px 1px rgba(0, 0, 0, 0.15);\n",
              "      filter: drop-shadow(0px 1px 2px rgba(0, 0, 0, 0.3));\n",
              "      fill: #FFFFFF;\n",
              "    }\n",
              "  </style>\n",
              "\n",
              "    <script>\n",
              "      const buttonEl =\n",
              "        document.querySelector('#df-d8fcb179-506a-473f-87dc-686ecdba1c77 button.colab-df-convert');\n",
              "      buttonEl.style.display =\n",
              "        google.colab.kernel.accessAllowed ? 'block' : 'none';\n",
              "\n",
              "      async function convertToInteractive(key) {\n",
              "        const element = document.querySelector('#df-d8fcb179-506a-473f-87dc-686ecdba1c77');\n",
              "        const dataTable =\n",
              "          await google.colab.kernel.invokeFunction('convertToInteractive',\n",
              "                                                    [key], {});\n",
              "        if (!dataTable) return;\n",
              "\n",
              "        const docLinkHtml = 'Like what you see? Visit the ' +\n",
              "          '<a target=\"_blank\" href=https://colab.research.google.com/notebooks/data_table.ipynb>data table notebook</a>'\n",
              "          + ' to learn more about interactive tables.';\n",
              "        element.innerHTML = '';\n",
              "        dataTable['output_type'] = 'display_data';\n",
              "        await google.colab.output.renderOutput(dataTable, element);\n",
              "        const docLink = document.createElement('div');\n",
              "        docLink.innerHTML = docLinkHtml;\n",
              "        element.appendChild(docLink);\n",
              "      }\n",
              "    </script>\n",
              "  </div>\n",
              "\n",
              "\n",
              "    </div>\n",
              "  </div>\n"
            ],
            "application/vnd.google.colaboratory.intrinsic+json": {
              "type": "dataframe",
              "variable_name": "hyderbad"
            }
          },
          "metadata": {},
          "execution_count": 60
        }
      ]
    },
    {
      "cell_type": "code",
      "source": [
        "#dropping all empty rows in the column AMENITES\n",
        "hyderbad = hyderbad[hyderbad['AMENITIES'].notna()]"
      ],
      "metadata": {
        "id": "5cbKMgNdQCOj"
      },
      "execution_count": 61,
      "outputs": []
    },
    {
      "cell_type": "code",
      "source": [
        "import re\n",
        "def bhk(text):\n",
        "  pattern = r'(\\d+)(?=\\s*BHK)'\n",
        "  x = re.findall(pattern, text)\n",
        "  if len(x) == 0:\n",
        "    return None\n",
        "  else:\n",
        "    return x"
      ],
      "metadata": {
        "id": "SRFPH3xf7CNo"
      },
      "execution_count": 62,
      "outputs": []
    },
    {
      "cell_type": "code",
      "source": [
        "hyderbad['BHK'] = hyderbad['PROP_HEADING'].apply(bhk).str.get(0)"
      ],
      "metadata": {
        "id": "kRTFWkFJ5_06"
      },
      "execution_count": 63,
      "outputs": []
    },
    {
      "cell_type": "code",
      "source": [
        "import ast\n",
        "text = []\n",
        "for i in hyderbad['location']:\n",
        "  text = (ast.literal_eval(i)['LOCALITY_NAME'])\n",
        "hyderbad['LOCALITY'] = text"
      ],
      "metadata": {
        "id": "Bf5dWygu-Uok"
      },
      "execution_count": 64,
      "outputs": []
    },
    {
      "cell_type": "code",
      "source": [
        "import ast\n",
        "Lat = []\n",
        "Long = []\n",
        "for d in hyderbad['MAP_DETAILS']:\n",
        "    lat = ast.literal_eval(d)['LATITUDE']\n",
        "    long = ast.literal_eval(d)['LONGITUDE']\n",
        "    Lat.append(lat)\n",
        "    Long.append(long)"
      ],
      "metadata": {
        "id": "L97CtjckCN7H"
      },
      "execution_count": 65,
      "outputs": []
    },
    {
      "cell_type": "code",
      "source": [
        "hyderbad['LATITUDE'] = pd.Series(Lat).astype(float)\n",
        "hyderbad['LONGITUDE'] = pd.Series(Long).astype(float)"
      ],
      "metadata": {
        "id": "SSPGGfT7CTsC"
      },
      "execution_count": 66,
      "outputs": []
    },
    {
      "cell_type": "code",
      "source": [
        "hyderbad['AMENITIES'] = hyderbad['AMENITIES'].str.split(',').tolist()"
      ],
      "metadata": {
        "id": "hDQhw8YlCAhP"
      },
      "execution_count": 67,
      "outputs": []
    },
    {
      "cell_type": "code",
      "source": [
        "def calculate_luxury_score(amenities):\n",
        "    # Define amenity scores (adjust as needed)\n",
        "    amenity_scores = {\n",
        "        '1' : 1,\n",
        "        '2' : 3,\n",
        "        '3' : 2,\n",
        "        '4' : 4,\n",
        "        '5' : 5,\n",
        "        '6' : 8,\n",
        "        '7' : 9,\n",
        "        '8' : 7,\n",
        "        '9' : 6,\n",
        "        '10' : 2,\n",
        "        '11' : 3,\n",
        "        '12' : 4,\n",
        "        '13' : 1,\n",
        "        '14' : 9,\n",
        "        '15' : 8,\n",
        "        '16' : 5,\n",
        "        '17' : 7,\n",
        "        '18' : 8,\n",
        "        '19' : 4,\n",
        "        '20' : 9,\n",
        "        '21' : 6,\n",
        "        '22' : 7,\n",
        "        '23' : 5,\n",
        "        '24' : 8,\n",
        "        '25' : 6,\n",
        "        '26' : 9,\n",
        "        '27' : 3,\n",
        "        '28' : 1,\n",
        "        '29' : 7,\n",
        "        '30' : 9,\n",
        "        '31' : 8,\n",
        "        '32' : 6,\n",
        "        '33' : 9\n",
        "        # Add other amenities and their scores here\n",
        "    }\n",
        "\n",
        "    # Calculate total luxury score for the property\n",
        "    if amenities == None:\n",
        "      return 1\n",
        "\n",
        "    total_score = sum(amenity_scores.get(amenity, 1) for amenity in amenities)\n",
        "\n",
        "    # for i in range(len(amenities)):\n",
        "    #   total_score += amenity_scores[amenities[i]]\n",
        "\n",
        "    return total_score\n",
        "\n",
        "def categorize_property(total_score):\n",
        "    if total_score >= 15:\n",
        "        return \"Luxury\"\n",
        "    elif 8 <= total_score <= 14:\n",
        "        return \"Semi-luxury\"\n",
        "    else:\n",
        "        return \"Budget\"\n",
        "\n",
        "\n",
        "luxury_score = hyderbad['AMENITIES'].apply(calculate_luxury_score)\n",
        "hyderbad['LUXURY'] = luxury_score.apply(categorize_property)\n",
        "# print(f\"Total Luxury Score: {luxury_score}\")\n",
        "# print(f\"Category: {['LUXURY']}\")"
      ],
      "metadata": {
        "id": "8MwlY5TjEPAH"
      },
      "execution_count": 68,
      "outputs": []
    },
    {
      "cell_type": "code",
      "source": [
        "hyderbad.rename(columns = {'SECONDARY_AREA' : 'SUPERBUILTUP_SQFT'}, inplace=True)"
      ],
      "metadata": {
        "id": "RkjgRtjTCSyT"
      },
      "execution_count": 69,
      "outputs": []
    },
    {
      "cell_type": "code",
      "source": [
        "hyderbad['AREA'] = hyderbad['AREA'].str.split(' ', expand=True).get(0).astype(float)"
      ],
      "metadata": {
        "id": "DUAGLVS2CAko"
      },
      "execution_count": 70,
      "outputs": []
    },
    {
      "cell_type": "code",
      "source": [
        "hyderbad['SUPERBUILTUP_SQFT'] = hyderbad['SUPERBUILTUP_SQFT'].str.split(' ', expand=True).get(0).astype(float)*10.7639104"
      ],
      "metadata": {
        "id": "Zq4o5M9zXNV8"
      },
      "execution_count": 71,
      "outputs": []
    },
    {
      "cell_type": "code",
      "source": [
        "hyderbad['CARPET_SQFT'] = hyderbad['AREA'] - abs(hyderbad['AREA'] - hyderbad['SUPERBUILTUP_SQFT'])"
      ],
      "metadata": {
        "id": "zZgp5jDfXNX6"
      },
      "execution_count": 72,
      "outputs": []
    },
    {
      "cell_type": "code",
      "source": [
        "hyderbad.drop(columns=['AMENITIES','PRICE_PER_UNIT_AREA','location','MAP_DETAILS','DESCRIPTION','PREFERENCE','SPID','PROP_ID','TRANSACT_TYPE','REGISTER_DATE','POSTING_DATE','UPDATE_DATE','CLASS','RES_COM','PROP_NAME','PROPERTY_NUMBER','MIN_PRICE','MAX_PRICE','PROJ_ID','BUILDING_ID','VERIFIED','MIN_AREA_SQFT','MAX_AREA_SQFT','PRODUCT_TYPE','TOP_USPS','EXPIRY_DATE','PROPERTY_TYPE__U','ALT_TAG','PROP_HEADING','VALUE_LABEL','CLASS_HEADING','CLASS_LABEL','REGISTER_DATE__U','REGISTERED_DAYS','PRIMARY_TAGS','SECONDARY_TAGS','TOTAL_LANDMARK_COUNT','FORMATTED_LANDMARK_DETAILS','SOCIETY_NAME','BUILDING_NAME'], inplace=True)"
      ],
      "metadata": {
        "id": "3Y_3vFm12wip"
      },
      "execution_count": 73,
      "outputs": []
    },
    {
      "cell_type": "code",
      "source": [
        "hyderbad = hyderbad[hyderbad['PRICE'].str.contains('Bed') == False]"
      ],
      "metadata": {
        "id": "P9cIrsQEXNaV"
      },
      "execution_count": 74,
      "outputs": []
    },
    {
      "cell_type": "code",
      "source": [
        "hyderbad = hyderbad[hyderbad['PRICE'] != 'Price on Request']"
      ],
      "metadata": {
        "id": "FY274V9ulRhP"
      },
      "execution_count": 75,
      "outputs": []
    },
    {
      "cell_type": "code",
      "source": [
        "def bed(item):\n",
        "  return float(item['PRICE'].str.split('/').get(0))*item['BEDROOM_NUM']"
      ],
      "metadata": {
        "id": "Ggm3_IrJc2vx"
      },
      "execution_count": 76,
      "outputs": []
    },
    {
      "cell_type": "code",
      "source": [
        "hyderbad['PRICE'] = hyderbad['PRICE'].apply(price)"
      ],
      "metadata": {
        "id": "AIECUlF6lDVu"
      },
      "execution_count": 77,
      "outputs": []
    },
    {
      "cell_type": "code",
      "source": [],
      "metadata": {
        "id": "Uc063FtslEPP"
      },
      "execution_count": 77,
      "outputs": []
    },
    {
      "cell_type": "code",
      "source": [
        "hyderbad.info()"
      ],
      "metadata": {
        "colab": {
          "base_uri": "https://localhost:8080/"
        },
        "id": "BIqGK9Byj0yH",
        "outputId": "9498c4d9-7ed0-4aaa-8c80-dae38ef6c2ae"
      },
      "execution_count": 78,
      "outputs": [
        {
          "output_type": "stream",
          "name": "stdout",
          "text": [
            "<class 'pandas.core.frame.DataFrame'>\n",
            "Index: 8058 entries, 0 to 9486\n",
            "Data columns (total 21 columns):\n",
            " #   Column             Non-Null Count  Dtype  \n",
            "---  ------             --------------  -----  \n",
            " 0   PROPERTY_TYPE      8058 non-null   object \n",
            " 1   CITY               8058 non-null   object \n",
            " 2   OWNTYPE            8058 non-null   int64  \n",
            " 3   BEDROOM_NUM        5812 non-null   float64\n",
            " 4   FURNISH            8058 non-null   int64  \n",
            " 5   FACING             8058 non-null   int64  \n",
            " 6   AGE                8058 non-null   int64  \n",
            " 7   TOTAL_FLOOR        7655 non-null   float64\n",
            " 8   FEATURES           8058 non-null   object \n",
            " 9   PRICE_SQFT         8058 non-null   float64\n",
            " 10  AREA               8058 non-null   float64\n",
            " 11  SUPERBUILTUP_SQFT  8058 non-null   float64\n",
            " 12  PRICE              8058 non-null   float64\n",
            " 13  BALCONY_NUM        5812 non-null   float64\n",
            " 14  FLOOR_NUM          4395 non-null   object \n",
            " 15  BHK                4372 non-null   object \n",
            " 16  LOCALITY           8058 non-null   object \n",
            " 17  LATITUDE           6809 non-null   float64\n",
            " 18  LONGITUDE          6809 non-null   float64\n",
            " 19  LUXURY             8058 non-null   object \n",
            " 20  CARPET_SQFT        8058 non-null   float64\n",
            "dtypes: float64(10), int64(4), object(7)\n",
            "memory usage: 1.4+ MB\n"
          ]
        }
      ]
    },
    {
      "cell_type": "code",
      "source": [
        "hyderbad.to_csv('hyderbad_cleaned.csv',index = True)"
      ],
      "metadata": {
        "id": "N55dX0vgklw2"
      },
      "execution_count": 79,
      "outputs": []
    },
    {
      "cell_type": "code",
      "source": [],
      "metadata": {
        "id": "CcuOowQtklzD"
      },
      "execution_count": 79,
      "outputs": []
    },
    {
      "cell_type": "code",
      "source": [
        "data = pd.concat([hyderbad, gurgaon])"
      ],
      "metadata": {
        "id": "_nu7CUO0kl2n"
      },
      "execution_count": 80,
      "outputs": []
    },
    {
      "cell_type": "code",
      "source": [
        "data.head(1)"
      ],
      "metadata": {
        "colab": {
          "base_uri": "https://localhost:8080/",
          "height": 118
        },
        "id": "n0VCUiiCn0WB",
        "outputId": "112b49e4-4a57-4114-bcb0-b903f45d54db"
      },
      "execution_count": 81,
      "outputs": [
        {
          "output_type": "execute_result",
          "data": {
            "text/plain": [
              "           PROPERTY_TYPE          CITY  OWNTYPE  BEDROOM_NUM  FURNISH  FACING  \\\n",
              "0  Residential Apartment  Secunderabad        1          2.0        2       4   \n",
              "\n",
              "   AGE  TOTAL_FLOOR            FEATURES  PRICE_SQFT    AREA  \\\n",
              "0    1          5.0  23,24,5,17,6,20,21      5700.0  1215.0   \n",
              "\n",
              "   SUPERBUILTUP_SQFT        PRICE  BALCONY_NUM FLOOR_NUM BHK   LOCALITY  \\\n",
              "0        1215.030206  692500000.0          1.0         2   2  Manikonda   \n",
              "\n",
              "    LATITUDE  LONGITUDE  LUXURY  CARPET_SQFT  \n",
              "0  17.575957  78.471167  Luxury  1214.969794  "
            ],
            "text/html": [
              "\n",
              "  <div id=\"df-7e2a652f-06d1-471f-bb36-45e54b62ef6b\" class=\"colab-df-container\">\n",
              "    <div>\n",
              "<style scoped>\n",
              "    .dataframe tbody tr th:only-of-type {\n",
              "        vertical-align: middle;\n",
              "    }\n",
              "\n",
              "    .dataframe tbody tr th {\n",
              "        vertical-align: top;\n",
              "    }\n",
              "\n",
              "    .dataframe thead th {\n",
              "        text-align: right;\n",
              "    }\n",
              "</style>\n",
              "<table border=\"1\" class=\"dataframe\">\n",
              "  <thead>\n",
              "    <tr style=\"text-align: right;\">\n",
              "      <th></th>\n",
              "      <th>PROPERTY_TYPE</th>\n",
              "      <th>CITY</th>\n",
              "      <th>OWNTYPE</th>\n",
              "      <th>BEDROOM_NUM</th>\n",
              "      <th>FURNISH</th>\n",
              "      <th>FACING</th>\n",
              "      <th>AGE</th>\n",
              "      <th>TOTAL_FLOOR</th>\n",
              "      <th>FEATURES</th>\n",
              "      <th>PRICE_SQFT</th>\n",
              "      <th>AREA</th>\n",
              "      <th>SUPERBUILTUP_SQFT</th>\n",
              "      <th>PRICE</th>\n",
              "      <th>BALCONY_NUM</th>\n",
              "      <th>FLOOR_NUM</th>\n",
              "      <th>BHK</th>\n",
              "      <th>LOCALITY</th>\n",
              "      <th>LATITUDE</th>\n",
              "      <th>LONGITUDE</th>\n",
              "      <th>LUXURY</th>\n",
              "      <th>CARPET_SQFT</th>\n",
              "    </tr>\n",
              "  </thead>\n",
              "  <tbody>\n",
              "    <tr>\n",
              "      <th>0</th>\n",
              "      <td>Residential Apartment</td>\n",
              "      <td>Secunderabad</td>\n",
              "      <td>1</td>\n",
              "      <td>2.0</td>\n",
              "      <td>2</td>\n",
              "      <td>4</td>\n",
              "      <td>1</td>\n",
              "      <td>5.0</td>\n",
              "      <td>23,24,5,17,6,20,21</td>\n",
              "      <td>5700.0</td>\n",
              "      <td>1215.0</td>\n",
              "      <td>1215.030206</td>\n",
              "      <td>692500000.0</td>\n",
              "      <td>1.0</td>\n",
              "      <td>2</td>\n",
              "      <td>2</td>\n",
              "      <td>Manikonda</td>\n",
              "      <td>17.575957</td>\n",
              "      <td>78.471167</td>\n",
              "      <td>Luxury</td>\n",
              "      <td>1214.969794</td>\n",
              "    </tr>\n",
              "  </tbody>\n",
              "</table>\n",
              "</div>\n",
              "    <div class=\"colab-df-buttons\">\n",
              "\n",
              "  <div class=\"colab-df-container\">\n",
              "    <button class=\"colab-df-convert\" onclick=\"convertToInteractive('df-7e2a652f-06d1-471f-bb36-45e54b62ef6b')\"\n",
              "            title=\"Convert this dataframe to an interactive table.\"\n",
              "            style=\"display:none;\">\n",
              "\n",
              "  <svg xmlns=\"http://www.w3.org/2000/svg\" height=\"24px\" viewBox=\"0 -960 960 960\">\n",
              "    <path d=\"M120-120v-720h720v720H120Zm60-500h600v-160H180v160Zm220 220h160v-160H400v160Zm0 220h160v-160H400v160ZM180-400h160v-160H180v160Zm440 0h160v-160H620v160ZM180-180h160v-160H180v160Zm440 0h160v-160H620v160Z\"/>\n",
              "  </svg>\n",
              "    </button>\n",
              "\n",
              "  <style>\n",
              "    .colab-df-container {\n",
              "      display:flex;\n",
              "      gap: 12px;\n",
              "    }\n",
              "\n",
              "    .colab-df-convert {\n",
              "      background-color: #E8F0FE;\n",
              "      border: none;\n",
              "      border-radius: 50%;\n",
              "      cursor: pointer;\n",
              "      display: none;\n",
              "      fill: #1967D2;\n",
              "      height: 32px;\n",
              "      padding: 0 0 0 0;\n",
              "      width: 32px;\n",
              "    }\n",
              "\n",
              "    .colab-df-convert:hover {\n",
              "      background-color: #E2EBFA;\n",
              "      box-shadow: 0px 1px 2px rgba(60, 64, 67, 0.3), 0px 1px 3px 1px rgba(60, 64, 67, 0.15);\n",
              "      fill: #174EA6;\n",
              "    }\n",
              "\n",
              "    .colab-df-buttons div {\n",
              "      margin-bottom: 4px;\n",
              "    }\n",
              "\n",
              "    [theme=dark] .colab-df-convert {\n",
              "      background-color: #3B4455;\n",
              "      fill: #D2E3FC;\n",
              "    }\n",
              "\n",
              "    [theme=dark] .colab-df-convert:hover {\n",
              "      background-color: #434B5C;\n",
              "      box-shadow: 0px 1px 3px 1px rgba(0, 0, 0, 0.15);\n",
              "      filter: drop-shadow(0px 1px 2px rgba(0, 0, 0, 0.3));\n",
              "      fill: #FFFFFF;\n",
              "    }\n",
              "  </style>\n",
              "\n",
              "    <script>\n",
              "      const buttonEl =\n",
              "        document.querySelector('#df-7e2a652f-06d1-471f-bb36-45e54b62ef6b button.colab-df-convert');\n",
              "      buttonEl.style.display =\n",
              "        google.colab.kernel.accessAllowed ? 'block' : 'none';\n",
              "\n",
              "      async function convertToInteractive(key) {\n",
              "        const element = document.querySelector('#df-7e2a652f-06d1-471f-bb36-45e54b62ef6b');\n",
              "        const dataTable =\n",
              "          await google.colab.kernel.invokeFunction('convertToInteractive',\n",
              "                                                    [key], {});\n",
              "        if (!dataTable) return;\n",
              "\n",
              "        const docLinkHtml = 'Like what you see? Visit the ' +\n",
              "          '<a target=\"_blank\" href=https://colab.research.google.com/notebooks/data_table.ipynb>data table notebook</a>'\n",
              "          + ' to learn more about interactive tables.';\n",
              "        element.innerHTML = '';\n",
              "        dataTable['output_type'] = 'display_data';\n",
              "        await google.colab.output.renderOutput(dataTable, element);\n",
              "        const docLink = document.createElement('div');\n",
              "        docLink.innerHTML = docLinkHtml;\n",
              "        element.appendChild(docLink);\n",
              "      }\n",
              "    </script>\n",
              "  </div>\n",
              "\n",
              "\n",
              "    </div>\n",
              "  </div>\n"
            ],
            "application/vnd.google.colaboratory.intrinsic+json": {
              "type": "dataframe",
              "variable_name": "data"
            }
          },
          "metadata": {},
          "execution_count": 81
        }
      ]
    },
    {
      "cell_type": "code",
      "source": [
        "import pandas as pd\n",
        "from sklearn.preprocessing import MultiLabelBinarizer\n",
        "\n",
        "# Create DataFrame\n",
        "df = pd.DataFrame(data['FEATURES'])\n",
        "\n",
        "# Split the string into lists of numbers\n",
        "df['FEATURES'] = df['FEATURES'].apply(lambda x: x.split(','))\n",
        "\n",
        "# Initialize MultiLabelBinarizer\n",
        "mlb = MultiLabelBinarizer()\n",
        "\n",
        "# Transform the data\n",
        "encoded_df = pd.DataFrame(mlb.fit_transform(df['FEATURES']), columns=mlb.classes_)\n",
        "\n",
        "encoded_df = encoded_df[['1','2','3','4','6','9','12','21','25','29','39']]\n",
        "\n",
        "encoded_df.rename(columns = {\n",
        "    '1' : 'SWIMMING_POOL',\n",
        "    '2' : 'POWER_BACKUP',\n",
        "    '3' : 'CLUB_HOUSE',\n",
        "    '4' : 'PARKING',\n",
        "    '12' : 'GYM',\n",
        "    '6' : 'PARKING',\n",
        "    '9' : 'ATM',\n",
        "    '21' : 'LIFT',\n",
        "    '25' : 'WASTE_DISPOSAL',\n",
        "    '29' : 'GAS_PIPELINE',\n",
        "    # '34' : 'WHEELCHAIR_ACCESSIBILITY',\n",
        "    # '35' : 'DG_AVAILABILITY',\n",
        "    '39' : 'NEAR_BANK'\n",
        "}, inplace=True)\n",
        "\n",
        "data.reset_index(drop=True, inplace=True)\n",
        "# Concatenate the encoded DataFrame with the original DataFrame\n",
        "data = pd.concat([data, encoded_df], axis=1, ignore_index=False)\n",
        "# Display the encoded DataFrame\n",
        "data.head(1)\n"
      ],
      "metadata": {
        "id": "RUhTWpV9n0Sh",
        "colab": {
          "base_uri": "https://localhost:8080/",
          "height": 118
        },
        "outputId": "e83601e5-1da0-4eda-8787-be1482055324"
      },
      "execution_count": 96,
      "outputs": [
        {
          "output_type": "execute_result",
          "data": {
            "text/plain": [
              "           PROPERTY_TYPE          CITY  OWNTYPE  BEDROOM_NUM  FURNISH  FACING  \\\n",
              "0  Residential Apartment  Secunderabad        1          2.0        2       4   \n",
              "\n",
              "   AGE  TOTAL_FLOOR            FEATURES  PRICE_SQFT    AREA  \\\n",
              "0    1          5.0  23,24,5,17,6,20,21      5700.0  1215.0   \n",
              "\n",
              "   SUPERBUILTUP_SQFT        PRICE  BALCONY_NUM FLOOR_NUM BHK   LOCALITY  \\\n",
              "0        1215.030206  692500000.0          1.0         2   2  Manikonda   \n",
              "\n",
              "    LATITUDE  LONGITUDE  LUXURY  CARPET_SQFT  SWIMMING_POOL  POWER_BACKUP  \\\n",
              "0  17.575957  78.471167  Luxury  1214.969794              0             0   \n",
              "\n",
              "   CLUB_HOUSE  PARKING  PARKING  9  GYM  LIFT  WASTE_DISPOSAL  GAS_PIPELINE  \\\n",
              "0           0        0        1  0    0     1               0             0   \n",
              "\n",
              "   NEAR_BANK  SWIMMING_POOL  POWER_BACKUP  CLUB_HOUSE  PARKING  PARKING  ATM  \\\n",
              "0          0              0             0           0        0        1    0   \n",
              "\n",
              "   GYM  LIFT  WASTE_DISPOSAL  GAS_PIPELINE  NEAR_BANK  \n",
              "0    0     1               0             0          0  "
            ],
            "text/html": [
              "\n",
              "  <div id=\"df-58133b20-52d6-42b8-8038-6461945d42fe\" class=\"colab-df-container\">\n",
              "    <div>\n",
              "<style scoped>\n",
              "    .dataframe tbody tr th:only-of-type {\n",
              "        vertical-align: middle;\n",
              "    }\n",
              "\n",
              "    .dataframe tbody tr th {\n",
              "        vertical-align: top;\n",
              "    }\n",
              "\n",
              "    .dataframe thead th {\n",
              "        text-align: right;\n",
              "    }\n",
              "</style>\n",
              "<table border=\"1\" class=\"dataframe\">\n",
              "  <thead>\n",
              "    <tr style=\"text-align: right;\">\n",
              "      <th></th>\n",
              "      <th>PROPERTY_TYPE</th>\n",
              "      <th>CITY</th>\n",
              "      <th>OWNTYPE</th>\n",
              "      <th>BEDROOM_NUM</th>\n",
              "      <th>FURNISH</th>\n",
              "      <th>FACING</th>\n",
              "      <th>AGE</th>\n",
              "      <th>TOTAL_FLOOR</th>\n",
              "      <th>FEATURES</th>\n",
              "      <th>PRICE_SQFT</th>\n",
              "      <th>AREA</th>\n",
              "      <th>SUPERBUILTUP_SQFT</th>\n",
              "      <th>PRICE</th>\n",
              "      <th>BALCONY_NUM</th>\n",
              "      <th>FLOOR_NUM</th>\n",
              "      <th>BHK</th>\n",
              "      <th>LOCALITY</th>\n",
              "      <th>LATITUDE</th>\n",
              "      <th>LONGITUDE</th>\n",
              "      <th>LUXURY</th>\n",
              "      <th>CARPET_SQFT</th>\n",
              "      <th>SWIMMING_POOL</th>\n",
              "      <th>POWER_BACKUP</th>\n",
              "      <th>CLUB_HOUSE</th>\n",
              "      <th>PARKING</th>\n",
              "      <th>PARKING</th>\n",
              "      <th>9</th>\n",
              "      <th>GYM</th>\n",
              "      <th>LIFT</th>\n",
              "      <th>WASTE_DISPOSAL</th>\n",
              "      <th>GAS_PIPELINE</th>\n",
              "      <th>NEAR_BANK</th>\n",
              "      <th>SWIMMING_POOL</th>\n",
              "      <th>POWER_BACKUP</th>\n",
              "      <th>CLUB_HOUSE</th>\n",
              "      <th>PARKING</th>\n",
              "      <th>PARKING</th>\n",
              "      <th>ATM</th>\n",
              "      <th>GYM</th>\n",
              "      <th>LIFT</th>\n",
              "      <th>WASTE_DISPOSAL</th>\n",
              "      <th>GAS_PIPELINE</th>\n",
              "      <th>NEAR_BANK</th>\n",
              "    </tr>\n",
              "  </thead>\n",
              "  <tbody>\n",
              "    <tr>\n",
              "      <th>0</th>\n",
              "      <td>Residential Apartment</td>\n",
              "      <td>Secunderabad</td>\n",
              "      <td>1</td>\n",
              "      <td>2.0</td>\n",
              "      <td>2</td>\n",
              "      <td>4</td>\n",
              "      <td>1</td>\n",
              "      <td>5.0</td>\n",
              "      <td>23,24,5,17,6,20,21</td>\n",
              "      <td>5700.0</td>\n",
              "      <td>1215.0</td>\n",
              "      <td>1215.030206</td>\n",
              "      <td>692500000.0</td>\n",
              "      <td>1.0</td>\n",
              "      <td>2</td>\n",
              "      <td>2</td>\n",
              "      <td>Manikonda</td>\n",
              "      <td>17.575957</td>\n",
              "      <td>78.471167</td>\n",
              "      <td>Luxury</td>\n",
              "      <td>1214.969794</td>\n",
              "      <td>0</td>\n",
              "      <td>0</td>\n",
              "      <td>0</td>\n",
              "      <td>0</td>\n",
              "      <td>1</td>\n",
              "      <td>0</td>\n",
              "      <td>0</td>\n",
              "      <td>1</td>\n",
              "      <td>0</td>\n",
              "      <td>0</td>\n",
              "      <td>0</td>\n",
              "      <td>0</td>\n",
              "      <td>0</td>\n",
              "      <td>0</td>\n",
              "      <td>0</td>\n",
              "      <td>1</td>\n",
              "      <td>0</td>\n",
              "      <td>0</td>\n",
              "      <td>1</td>\n",
              "      <td>0</td>\n",
              "      <td>0</td>\n",
              "      <td>0</td>\n",
              "    </tr>\n",
              "  </tbody>\n",
              "</table>\n",
              "</div>\n",
              "    <div class=\"colab-df-buttons\">\n",
              "\n",
              "  <div class=\"colab-df-container\">\n",
              "    <button class=\"colab-df-convert\" onclick=\"convertToInteractive('df-58133b20-52d6-42b8-8038-6461945d42fe')\"\n",
              "            title=\"Convert this dataframe to an interactive table.\"\n",
              "            style=\"display:none;\">\n",
              "\n",
              "  <svg xmlns=\"http://www.w3.org/2000/svg\" height=\"24px\" viewBox=\"0 -960 960 960\">\n",
              "    <path d=\"M120-120v-720h720v720H120Zm60-500h600v-160H180v160Zm220 220h160v-160H400v160Zm0 220h160v-160H400v160ZM180-400h160v-160H180v160Zm440 0h160v-160H620v160ZM180-180h160v-160H180v160Zm440 0h160v-160H620v160Z\"/>\n",
              "  </svg>\n",
              "    </button>\n",
              "\n",
              "  <style>\n",
              "    .colab-df-container {\n",
              "      display:flex;\n",
              "      gap: 12px;\n",
              "    }\n",
              "\n",
              "    .colab-df-convert {\n",
              "      background-color: #E8F0FE;\n",
              "      border: none;\n",
              "      border-radius: 50%;\n",
              "      cursor: pointer;\n",
              "      display: none;\n",
              "      fill: #1967D2;\n",
              "      height: 32px;\n",
              "      padding: 0 0 0 0;\n",
              "      width: 32px;\n",
              "    }\n",
              "\n",
              "    .colab-df-convert:hover {\n",
              "      background-color: #E2EBFA;\n",
              "      box-shadow: 0px 1px 2px rgba(60, 64, 67, 0.3), 0px 1px 3px 1px rgba(60, 64, 67, 0.15);\n",
              "      fill: #174EA6;\n",
              "    }\n",
              "\n",
              "    .colab-df-buttons div {\n",
              "      margin-bottom: 4px;\n",
              "    }\n",
              "\n",
              "    [theme=dark] .colab-df-convert {\n",
              "      background-color: #3B4455;\n",
              "      fill: #D2E3FC;\n",
              "    }\n",
              "\n",
              "    [theme=dark] .colab-df-convert:hover {\n",
              "      background-color: #434B5C;\n",
              "      box-shadow: 0px 1px 3px 1px rgba(0, 0, 0, 0.15);\n",
              "      filter: drop-shadow(0px 1px 2px rgba(0, 0, 0, 0.3));\n",
              "      fill: #FFFFFF;\n",
              "    }\n",
              "  </style>\n",
              "\n",
              "    <script>\n",
              "      const buttonEl =\n",
              "        document.querySelector('#df-58133b20-52d6-42b8-8038-6461945d42fe button.colab-df-convert');\n",
              "      buttonEl.style.display =\n",
              "        google.colab.kernel.accessAllowed ? 'block' : 'none';\n",
              "\n",
              "      async function convertToInteractive(key) {\n",
              "        const element = document.querySelector('#df-58133b20-52d6-42b8-8038-6461945d42fe');\n",
              "        const dataTable =\n",
              "          await google.colab.kernel.invokeFunction('convertToInteractive',\n",
              "                                                    [key], {});\n",
              "        if (!dataTable) return;\n",
              "\n",
              "        const docLinkHtml = 'Like what you see? Visit the ' +\n",
              "          '<a target=\"_blank\" href=https://colab.research.google.com/notebooks/data_table.ipynb>data table notebook</a>'\n",
              "          + ' to learn more about interactive tables.';\n",
              "        element.innerHTML = '';\n",
              "        dataTable['output_type'] = 'display_data';\n",
              "        await google.colab.output.renderOutput(dataTable, element);\n",
              "        const docLink = document.createElement('div');\n",
              "        docLink.innerHTML = docLinkHtml;\n",
              "        element.appendChild(docLink);\n",
              "      }\n",
              "    </script>\n",
              "  </div>\n",
              "\n",
              "\n",
              "    </div>\n",
              "  </div>\n"
            ],
            "application/vnd.google.colaboratory.intrinsic+json": {
              "type": "dataframe",
              "variable_name": "data"
            }
          },
          "metadata": {},
          "execution_count": 96
        }
      ]
    },
    {
      "cell_type": "code",
      "source": [
        "data.to_csv('99Acres_gurgaon_hyderabad.csv')"
      ],
      "metadata": {
        "id": "yk8g0TBTk1pW"
      },
      "execution_count": 97,
      "outputs": []
    },
    {
      "cell_type": "code",
      "source": [],
      "metadata": {
        "id": "7wZ6yCQ8k2tu"
      },
      "execution_count": 82,
      "outputs": []
    }
  ]
}